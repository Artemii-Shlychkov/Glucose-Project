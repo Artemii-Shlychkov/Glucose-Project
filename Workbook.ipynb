{
 "cells": [
  {
   "cell_type": "code",
   "execution_count": 3,
   "metadata": {},
   "outputs": [
    {
     "name": "stderr",
     "output_type": "stream",
     "text": [
      "c:\\Users\\bythe\\Desktop\\Glucose Project\\.venv\\Lib\\site-packages\\tqdm\\auto.py:21: TqdmWarning: IProgress not found. Please update jupyter and ipywidgets. See https://ipywidgets.readthedocs.io/en/stable/user_install.html\n",
      "  from .autonotebook import tqdm as notebook_tqdm\n",
      "WARNING (pytensor.tensor.blas): Using NumPy C-API based implementation for BLAS functions.\n"
     ]
    }
   ],
   "source": [
    "import torch\n",
    "from sklearn.metrics import mean_squared_error\n",
    "from sbi.analysis import pairplot\n",
    "from sbi.inference import NPE\n",
    "from sbi.utils import BoxUniform\n",
    "from sbi.utils.user_input_checks import (\n",
    "    check_sbi_inputs,\n",
    "    process_prior,\n",
    "    process_simulator,\n",
    ")\n",
    "from sbi.inference.potentials import posterior_estimator_based_potential\n",
    "from sbi.samplers.rejection import rejection\n",
    "from sbi.utils.user_input_checks import process_prior as sbi_process_prior\n",
    "\n",
    "\n",
    "from simglucose.simulation.env import T1DSimEnv\n",
    "from simglucose.controller.basal_bolus_ctrller import BBController\n",
    "from simglucose.sensor.cgm import CGMSensor\n",
    "from simglucose.actuator.pump import InsulinPump\n",
    "from simglucose.patient.t1dpatient import T1DPatient\n",
    "from simglucose.simulation.scenario_gen import RandomScenario\n",
    "from simglucose.simulation.scenario import CustomScenario\n",
    "from simglucose.simulation.sim_engine import SimObj, sim, batch_sim\n",
    "from datetime import timedelta\n",
    "from datetime import datetime\n",
    "from torch.distributions import Distribution \n",
    "\n",
    "import seaborn as sns\n",
    "import pandas as pd\n",
    "import numpy as np\n",
    "import matplotlib.pyplot as plt\n",
    "from tqdm import tqdm\n",
    "from copy import deepcopy\n",
    "import time\n",
    "from torch.distributions import MultivariateNormal\n",
    "from dataclasses import dataclass, fields, field"
   ]
  },
  {
   "cell_type": "code",
   "execution_count": 4,
   "metadata": {},
   "outputs": [
    {
     "name": "stdout",
     "output_type": "stream",
     "text": [
      "2.6.0+cu126\n",
      "True\n",
      "CUDA available\n",
      "NVIDIA GeForce GTX 1660 SUPER\n",
      "cuda\n"
     ]
    }
   ],
   "source": [
    "print(torch.__version__)\n",
    "print(torch.cuda.is_available())\n",
    "if torch.cuda.is_available():\n",
    "    print('CUDA available')\n",
    "    print(torch.cuda.get_device_name(0))\n",
    "    device = torch.device('cuda')   \n",
    "    print(device)"
   ]
  },
  {
   "cell_type": "code",
   "execution_count": 5,
   "metadata": {},
   "outputs": [],
   "source": [
    "pathos = True\n",
    "try:\n",
    "    from pathos.multiprocessing import ProcessPool as Pool\n",
    "except ImportError:\n",
    "    print('You could install pathos to enable parallel simulation.')\n",
    "    pathos = False"
   ]
  },
  {
   "cell_type": "code",
   "execution_count": 6,
   "metadata": {},
   "outputs": [
    {
     "name": "stdout",
     "output_type": "stream",
     "text": [
      "n_params =  23\n"
     ]
    }
   ],
   "source": [
    "@dataclass\n",
    "class ParamPriors:\n",
    "    kmax: tuple = (0.01, 0.1)\n",
    "    kmin: tuple = (0.0, 0.05)\n",
    "    b: tuple = (0.5, 1.0)\n",
    "    d: tuple = (0.05, 0.5)\n",
    "    kabs: tuple = (0.01, 1.5)\n",
    "    kp1: tuple = (3.0, 12.0)\n",
    "    kp2: tuple = (0.0, 0.05)\n",
    "    kp3: tuple = (0.0, 0.05)\n",
    "    k1: tuple = (0.01, 0.2)\n",
    "    k2: tuple = (0.01, 0.5)\n",
    "    Vm0: tuple = (1.0, 15.0)\n",
    "    Vmx: tuple = (0.01, 0.2)\n",
    "    ka1: tuple = (0.001, 0.01)\n",
    "    ka2: tuple = (0.01, 0.05)\n",
    "    m1: tuple = (0.1, 0.5)\n",
    "    m2: tuple = (0.1, 0.5)\n",
    "    m30: tuple = (0.1, 1.0)\n",
    "    m4: tuple = (0.05, 0.2)\n",
    "    ki: tuple = (0.0, 0.05)\n",
    "    p2u: tuple = (0.01, 0.1)\n",
    "    Ib: tuple = (80.0, 140.0)\n",
    "    kd: tuple = (0.01, 0.03)\n",
    "    ksc: tuple = (0.05, 0.2)\n",
    "print('n_params = ', len(fields(ParamPriors)))"
   ]
  },
  {
   "cell_type": "code",
   "execution_count": 7,
   "metadata": {},
   "outputs": [],
   "source": [
    "def get_patient_params(env):\n",
    "    param_names = [f.name for f in fields(ParamPriors)]\n",
    "    params = [getattr(env.env.patient._params, param) for param in param_names]\n",
    "    return dict(zip(param_names, params))"
   ]
  },
  {
   "cell_type": "code",
   "execution_count": 8,
   "metadata": {},
   "outputs": [],
   "source": [
    "@dataclass\n",
    "class DeafultSimulationEnv:\n",
    "   patient_name: str = 'adolescent#002'\n",
    "   sensor_name: str = 'Dexcom'\n",
    "   pump_name: str = 'Insulet'\n",
    "   scenario: list[tuple[int,int]] = field(default_factory=lambda: [(7, 45), (12, 70), (16, 15), (18, 80), (23, 10)])\n",
    "   hours: int = 24  # hours to simulate"
   ]
  },
  {
   "cell_type": "code",
   "execution_count": 9,
   "metadata": {},
   "outputs": [
    {
     "name": "stdout",
     "output_type": "stream",
     "text": [
      "['kmax', 'kmin', 'b', 'd', 'kabs', 'kp1', 'kp2', 'kp3', 'k1', 'k2', 'Vm0', 'Vmx', 'ka1', 'ka2', 'm1', 'm2', 'm30', 'm4', 'ki', 'p2u', 'Ib', 'kd', 'ksc']\n",
      "[(0.01, 0.1), (0.0, 0.05), (0.5, 1.0), (0.05, 0.5), (0.01, 1.5), (3.0, 12.0), (0.0, 0.05), (0.0, 0.05), (0.01, 0.2), (0.01, 0.5), (1.0, 15.0), (0.01, 0.2), (0.001, 0.01), (0.01, 0.05), (0.1, 0.5), (0.1, 0.5), (0.1, 1.0), (0.05, 0.2), (0.0, 0.05), (0.01, 0.1), (80.0, 140.0), (0.01, 0.03), (0.05, 0.2)]\n"
     ]
    }
   ],
   "source": [
    "priors = ParamPriors()\n",
    "\n",
    "priors = ParamPriors()\n",
    "\n",
    "# get the names and default values of the parameters using fields\n",
    "param_names = [field.name for field in fields(priors)]\n",
    "param_values = [field.default for field in fields(priors)]\n",
    "\n",
    "print(param_names)\n",
    "print(param_values)"
   ]
  },
  {
   "cell_type": "code",
   "execution_count": 10,
   "metadata": {},
   "outputs": [],
   "source": [
    "def process_uniform_priors(priors: ParamPriors) -> Distribution:\n",
    "    \"\"\"\n",
    "    Create a single 23-dimensional Uniform prior:\n",
    "        BoxUniform(low=(..., ..., ...), high=(..., ..., ...))\n",
    "    \"\"\"\n",
    "    # 1) Gather lower and upper bounds\n",
    "    low_vals = []\n",
    "    high_vals = []\n",
    "    for f in fields(priors):\n",
    "        low, high = f.default  # e.g. (0.01, 0.1)\n",
    "        low_vals.append(low)\n",
    "        high_vals.append(high)\n",
    "\n",
    "    # 2) Convert to Torch tensors on the GPU (if available)\n",
    "    low_tensor = torch.tensor(low_vals, dtype=torch.float32, device=device)\n",
    "    high_tensor = torch.tensor(high_vals, dtype=torch.float32, device=device)\n",
    "\n",
    "    # 3) Create a single 23D BoxUniform distribution\n",
    "    return BoxUniform(low=low_tensor, high=high_tensor, device=device)\n"
   ]
  },
  {
   "cell_type": "code",
   "execution_count": 14,
   "metadata": {},
   "outputs": [
    {
     "name": "stdout",
     "output_type": "stream",
     "text": [
      "BoxUniform(Uniform(low: torch.Size([23]), high: torch.Size([23])), 1)\n"
     ]
    }
   ],
   "source": [
    "processed_priors = process_uniform_priors(priors)\n",
    "print(processed_priors)"
   ]
  },
  {
   "cell_type": "code",
   "execution_count": 32,
   "metadata": {},
   "outputs": [],
   "source": [
    "prior_sample = processed_priors.sample(sample_shape=(1,))"
   ]
  },
  {
   "cell_type": "code",
   "execution_count": 33,
   "metadata": {},
   "outputs": [
    {
     "name": "stdout",
     "output_type": "stream",
     "text": [
      "tensor([[8.9359e-02, 2.0366e-02, 9.8051e-01, 4.0114e-01, 7.5034e-02, 3.0893e+00,\n",
      "         1.4568e-02, 4.8781e-02, 8.5510e-02, 4.3113e-01, 1.2773e+01, 1.6878e-01,\n",
      "         9.2315e-03, 1.5337e-02, 2.8679e-01, 4.8024e-01, 2.1851e-01, 1.9773e-01,\n",
      "         3.9992e-02, 3.2478e-02, 9.6435e+01, 2.6336e-02, 1.2642e-01]],\n",
      "       device='cuda:0')\n"
     ]
    }
   ],
   "source": [
    "print(prior_sample)"
   ]
  },
  {
   "cell_type": "code",
   "execution_count": 34,
   "metadata": {},
   "outputs": [
    {
     "name": "stdout",
     "output_type": "stream",
     "text": [
      "kmax: 0.089\n",
      "kmin: 0.020\n",
      "b: 0.981\n",
      "d: 0.401\n",
      "kabs: 0.075\n",
      "kp1: 3.089\n",
      "kp2: 0.015\n",
      "kp3: 0.049\n",
      "k1: 0.086\n",
      "k2: 0.431\n",
      "Vm0: 12.773\n",
      "Vmx: 0.169\n",
      "ka1: 0.009\n",
      "ka2: 0.015\n",
      "m1: 0.287\n",
      "m2: 0.480\n",
      "m30: 0.219\n",
      "m4: 0.198\n",
      "ki: 0.040\n",
      "p2u: 0.032\n",
      "Ib: 96.435\n",
      "kd: 0.026\n",
      "ksc: 0.126\n"
     ]
    }
   ],
   "source": [
    "for i in range(23):\n",
    "    print(f'{param_names[i]}: {prior_sample[0, i]:.3f}')"
   ]
  },
  {
   "cell_type": "code",
   "execution_count": 22,
   "metadata": {},
   "outputs": [],
   "source": [
    "def load_default_simulation_env(env_settings: DeafultSimulationEnv = DeafultSimulationEnv(), hours:int =24) -> T1DSimEnv:\n",
    "    \"\"\"Load the default simulation environment.\n",
    "\n",
    "    Parameters\n",
    "    ----------\n",
    "    env_settings : DeafultSimulationEnv\n",
    "        DataClass object containing the default simulation environment settings.\n",
    "\n",
    "    Returns\n",
    "    -------\n",
    "    T1DSimEnv\n",
    "        The simulation environment object.\n",
    "    \"\"\"\n",
    "    now = datetime.now()\n",
    "    start_time = datetime.combine(now.date(), datetime.min.time())\n",
    "    \n",
    "    patient = T1DPatient.withName(env_settings.patient_name)\n",
    "    sensor = CGMSensor.withName(env_settings.sensor_name, seed = 1)\n",
    "    pump = InsulinPump.withName(env_settings.pump_name)\n",
    "    scenario = CustomScenario(start_time=start_time, scenario=env_settings.scenario)\n",
    "    controller = BBController()\n",
    "    env = T1DSimEnv(patient=patient, sensor=sensor, pump=pump, scenario=scenario)\n",
    "    \n",
    "    return SimObj(env = env, controller = controller, sim_time = timedelta(hours=hours), animate=False)"
   ]
  },
  {
   "cell_type": "code",
   "execution_count": 48,
   "metadata": {},
   "outputs": [],
   "source": [
    "def set_custom_params(patient, custom_params):\n",
    "    \"\"\"_summary_\n",
    "\n",
    "    Parameters\n",
    "    ----------\n",
    "    patient : _type_\n",
    "        _description_\n",
    "    custom_params : _type_\n",
    "        _description_\n",
    "    \"\"\"\n",
    "    # convert tensor to list\n",
    "    custom_params = custom_params.tolist()  \n",
    "    #print(custom_params)\n",
    "    param_names = [field.name for field in fields(ParamPriors())]\n",
    "    for i, param in enumerate(param_names):\n",
    "        setattr(patient._params, param, custom_params[i])"
   ]
  },
  {
   "cell_type": "code",
   "execution_count": 24,
   "metadata": {},
   "outputs": [],
   "source": [
    "def create_simulation_envs_with_custom_params(params_sets: torch.Tensor, hours: int = 24):\n",
    "    # Now params_sets.shape is (N, 23)\n",
    "    default_simulation_env = load_default_simulation_env(hours=hours)\n",
    "    simulation_envs = []\n",
    "    for i in range(params_sets.shape[0]):\n",
    "        custom_sim_env = deepcopy(default_simulation_env)\n",
    "        # row i is shape (23,)\n",
    "        set_custom_params(custom_sim_env.env.patient, params_sets[i])\n",
    "        simulation_envs.append(custom_sim_env)\n",
    "    return simulation_envs\n",
    "\n",
    "\n",
    "        \n",
    "    "
   ]
  },
  {
   "cell_type": "code",
   "execution_count": 25,
   "metadata": {},
   "outputs": [],
   "source": [
    "def simulate_glucose_dynamics(simulation_env: T1DSimEnv):\n",
    "    \"\"\"_summary_\n",
    "\n",
    "    Parameters\n",
    "    ----------\n",
    "    simulation_env : T1DSimEnv\n",
    "        _description_\n",
    "\n",
    "    Returns\n",
    "    -------\n",
    "    _type_\n",
    "        _description_\n",
    "    \"\"\"\n",
    "    simulation_env.simulate()\n",
    "    return simulation_env.results()['CGM'].values"
   ]
  },
  {
   "cell_type": "code",
   "execution_count": 26,
   "metadata": {},
   "outputs": [],
   "source": [
    "def simulate_batch(simulations: list[T1DSimEnv]):\n",
    "    \"\"\"_summary_\n",
    "\n",
    "    Parameters\n",
    "    ----------\n",
    "    simulations : list[T1DSimEnv]\n",
    "        _description_\n",
    "\n",
    "    Returns\n",
    "    -------\n",
    "    _type_\n",
    "        _description_\n",
    "    \"\"\"\n",
    "    tic = time.time()\n",
    "    if pathos:\n",
    "        with Pool() as p:\n",
    "            print('Using pathos for parallel simulation.')\n",
    "            results = p.map(simulate_glucose_dynamics, simulations)\n",
    "    else:\n",
    "        results = [simulate_glucose_dynamics(s) for s in tqdm(simulations)]\n",
    "    toc = time.time()\n",
    "    print('Simulation took {} sec.'.format(toc - tic))\n",
    "    results = np.stack(results)\n",
    "    results = torch.from_numpy(results).float().to(device)\n",
    "    return results"
   ]
  },
  {
   "cell_type": "code",
   "execution_count": 27,
   "metadata": {},
   "outputs": [],
   "source": [
    "def run_glucose_simulator(params_sets: torch.Tensor, hours: int = 24):\n",
    "    # Suppose params_sets is (N, 23)\n",
    "    simulation_envs = create_simulation_envs_with_custom_params(params_sets)\n",
    "    results = simulate_batch(simulation_envs)\n",
    "    return results\n"
   ]
  },
  {
   "cell_type": "code",
   "execution_count": 28,
   "metadata": {},
   "outputs": [],
   "source": [
    "def set_up_sbi_simulator(\n",
    "    priors: ParamPriors = ParamPriors(),\n",
    "    glucose_simulator: callable = run_glucose_simulator,\n",
    ") -> callable:\n",
    "    processed_priors = process_uniform_priors(priors=priors)  # 23D BoxUniform\n",
    "    sbi_sumulator = process_simulator(glucose_simulator, processed_priors, is_numpy_simulator=True)\n",
    "    check_sbi_inputs(sbi_sumulator, processed_priors)  # optional\n",
    "    return sbi_sumulator"
   ]
  },
  {
   "cell_type": "code",
   "execution_count": 29,
   "metadata": {},
   "outputs": [],
   "source": [
    "def get_true_observation(hours: int = 24) -> tuple[np.ndarray, dict]:\n",
    "    \"\"\" Returns the single glucose dynamcis simulation from the default simulation environment parameters and these parameters.\n",
    "\n",
    "    Returns\n",
    "    -------\n",
    "    np.ndarray\n",
    "        Time series of glucose dynamics.\n",
    "    \"\"\"\n",
    "    default_simulation_env = load_default_simulation_env(hours=hours)\n",
    "    default_simulation_env.simulate()\n",
    "    true_params = get_patient_params(default_simulation_env)\n",
    "    true_observation = default_simulation_env.results()['CGM'].to_numpy()\n",
    "    true_observation = torch.from_numpy(true_observation).float().to(device)\n",
    "    return true_observation, true_params"
   ]
  },
  {
   "cell_type": "code",
   "execution_count": 30,
   "metadata": {},
   "outputs": [],
   "source": [
    "\n",
    "\n",
    "def run_APT(\n",
    "    prior: torch.distributions.Distribution,\n",
    "    simulator: callable,\n",
    "    true_observation: torch.Tensor,\n",
    "    num_rounds: int = 10,\n",
    "    num_simulations: int = 1000,\n",
    "):\n",
    "    \"\"\"\n",
    "    Run Amortized Posterior Training (APT) with NPE on a GPU if available.\n",
    "    \"\"\"\n",
    "    # We already have a global device:\n",
    "    print(f\"Using device: {device}\")\n",
    "\n",
    "    # Initialize NPE on device\n",
    "    inference = NPE(prior=prior, device=device)\n",
    "\n",
    "    proposal = prior  # start with prior\n",
    "\n",
    "    for r in range(num_rounds):\n",
    "        print(f\"Running round {r + 1} of {num_rounds}\")\n",
    "\n",
    "        theta = proposal.sample((num_simulations,))\n",
    "        # simulator returns x on GPU due to our modifications\n",
    "        x = simulator(theta)\n",
    "\n",
    "        # Optional sanity check: ensure on same device\n",
    "        theta = theta.to(device)\n",
    "        x = x.to(device)\n",
    "\n",
    "        # Train\n",
    "        _ = inference.append_simulations(theta, x, proposal=proposal).train()\n",
    "\n",
    "        # Build posterior and condition on true_observation\n",
    "        posterior_dist = inference.build_posterior().set_default_x(true_observation)\n",
    "\n",
    "        # Next round\n",
    "        proposal = posterior_dist\n",
    "\n",
    "    return posterior_dist\n",
    "\n"
   ]
  },
  {
   "cell_type": "code",
   "execution_count": 41,
   "metadata": {},
   "outputs": [
    {
     "name": "stdout",
     "output_type": "stream",
     "text": [
      "[0.08022686839103699, 0.01534718181937933, 0.7747467756271362, 0.1714082956314087, 1.0225948095321655, 7.762775421142578, 0.02895953692495823, 0.02154812216758728, 0.14692412316799164, 0.3637492060661316, 8.942407608032227, 0.022912032902240753, 0.007242041639983654, 0.04318724572658539, 0.3221611976623535, 0.2245689332485199, 0.6784731149673462, 0.11015482991933823, 0.04491179436445236, 0.0815168172121048, 132.7985382080078, 0.02196064405143261, 0.19318293035030365]\n",
      "[0.048327408730983734, 0.04996241256594658, 0.6503812670707703, 0.37073931097984314, 0.3943270444869995, 8.715044021606445, 0.01362327765673399, 0.03228966146707535, 0.12298351526260376, 0.4201231896877289, 1.9579542875289917, 0.11012254655361176, 0.005105735268443823, 0.012576421722769737, 0.3443276882171631, 0.2402498722076416, 0.3112614154815674, 0.18996569514274597, 0.04893042519688606, 0.0359313003718853, 131.40127563476562, 0.01087245438247919, 0.125367671251297]\n",
      "Using pathos for parallel simulation.\n",
      "Simulation took 6.87103271484375 sec.\n",
      "[0.04814097285270691, 0.04590785875916481, 0.6888806819915771, 0.1741500347852707, 0.9709261059761047, 11.754348754882812, 0.018920235335826874, 0.008032477460801601, 0.17018194496631622, 0.09001976251602173, 1.983616590499878, 0.1286465972661972, 0.0086250314489007, 0.025367261841893196, 0.2604563534259796, 0.1634814590215683, 0.712664783000946, 0.11614879965782166, 0.002453697845339775, 0.03678225725889206, 117.2841567993164, 0.01935334876179695, 0.1921597421169281]\n",
      "Using pathos for parallel simulation.\n",
      "Simulation took 5.536663770675659 sec.\n"
     ]
    }
   ],
   "source": [
    "sbi_simulator = set_up_sbi_simulator()"
   ]
  },
  {
   "cell_type": "code",
   "execution_count": 43,
   "metadata": {},
   "outputs": [
    {
     "data": {
      "image/png": "[encoded data removed]",
      "text/plain": [
       "<Figure size 640x480 with 1 Axes>"
      ]
     },
     "metadata": {},
     "output_type": "display_data"
    }
   ],
   "source": [
    "for i in range(5):\n",
    "    true_observation, true_params = get_true_observation(hours = 24)\n",
    "    \n",
    "    # move to cpu\n",
    "    true_observation = true_observation.cpu()\n",
    "    \n",
    "    plt.plot(true_observation)"
   ]
  },
  {
   "cell_type": "code",
   "execution_count": 44,
   "metadata": {},
   "outputs": [],
   "source": [
    "def sample_from_posterior(posterior: Distribution, x_true: np.ndarray, num_samples: int = 1000) -> torch.Tensor: \n",
    "    posterior_samples = posterior.sample((num_samples,), x=x_true)\n",
    "    return posterior_samples"
   ]
  },
  {
   "cell_type": "code",
   "execution_count": 46,
   "metadata": {},
   "outputs": [],
   "source": [
    "prior = process_uniform_priors(priors)"
   ]
  },
  {
   "cell_type": "code",
   "execution_count": null,
   "metadata": {},
   "outputs": [
    {
     "name": "stdout",
     "output_type": "stream",
     "text": [
      "Using device: cuda\n",
      "Running round 1 of 5\n",
      "Using pathos for parallel simulation.\n",
      "Simulation took 165.40543222427368 sec.\n"
     ]
    },
    {
     "name": "stderr",
     "output_type": "stream",
     "text": [
      "c:\\Users\\bythe\\Desktop\\Glucose Project\\.venv\\Lib\\site-packages\\sbi\\inference\\trainers\\npe\\npe_base.py:157: UserWarning: Data x has device 'cuda:0'. Moving x to the data_device 'cuda'. Training will proceed on device 'cuda'.\n",
      "  theta, x = validate_theta_and_x(\n",
      "c:\\Users\\bythe\\Desktop\\Glucose Project\\.venv\\Lib\\site-packages\\sbi\\inference\\trainers\\npe\\npe_base.py:157: UserWarning: Parameters theta has device 'cuda:0'. Moving theta to the data_device 'cuda'. Training will proceed on device 'cuda'.\n",
      "  theta, x = validate_theta_and_x(\n"
     ]
    },
    {
     "name": "stdout",
     "output_type": "stream",
     "text": [
      " Neural network successfully converged after 157 epochs.Running round 2 of 5\n"
     ]
    },
    {
     "name": "stderr",
     "output_type": "stream",
     "text": [
      "Drawing 200 posterior samples: 209it [00:00, 405.03it/s]                         \n"
     ]
    },
    {
     "name": "stdout",
     "output_type": "stream",
     "text": [
      "Using pathos for parallel simulation.\n",
      "Simulation took 180.7851836681366 sec.\n",
      "Using SNPE-C with atomic loss\n",
      " Training neural network. Epochs trained: 3"
     ]
    },
    {
     "name": "stderr",
     "output_type": "stream",
     "text": [
      "c:\\Users\\bythe\\Desktop\\Glucose Project\\.venv\\Lib\\site-packages\\sbi\\inference\\trainers\\npe\\npe_base.py:157: UserWarning: Data x has device 'cuda:0'. Moving x to the data_device 'cuda'. Training will proceed on device 'cuda'.\n",
      "  theta, x = validate_theta_and_x(\n",
      "c:\\Users\\bythe\\Desktop\\Glucose Project\\.venv\\Lib\\site-packages\\sbi\\inference\\trainers\\npe\\npe_base.py:157: UserWarning: Parameters theta has device 'cuda:0'. Moving theta to the data_device 'cuda'. Training will proceed on device 'cuda'.\n",
      "  theta, x = validate_theta_and_x(\n"
     ]
    },
    {
     "name": "stdout",
     "output_type": "stream",
     "text": [
      " Neural network successfully converged after 64 epochs.Running round 3 of 5\n"
     ]
    },
    {
     "name": "stderr",
     "output_type": "stream",
     "text": [
      "Drawing 200 posterior samples: 100%|██████████| 200/200 [02:22<00:00,  1.40it/s]\n"
     ]
    },
    {
     "name": "stdout",
     "output_type": "stream",
     "text": [
      "Using pathos for parallel simulation.\n",
      "Simulation took 149.76222109794617 sec.\n",
      "Using SNPE-C with atomic loss\n"
     ]
    },
    {
     "name": "stderr",
     "output_type": "stream",
     "text": [
      "c:\\Users\\bythe\\Desktop\\Glucose Project\\.venv\\Lib\\site-packages\\sbi\\inference\\trainers\\npe\\npe_base.py:157: UserWarning: Data x has device 'cuda:0'. Moving x to the data_device 'cuda'. Training will proceed on device 'cuda'.\n",
      "  theta, x = validate_theta_and_x(\n",
      "c:\\Users\\bythe\\Desktop\\Glucose Project\\.venv\\Lib\\site-packages\\sbi\\inference\\trainers\\npe\\npe_base.py:157: UserWarning: Parameters theta has device 'cuda:0'. Moving theta to the data_device 'cuda'. Training will proceed on device 'cuda'.\n",
      "  theta, x = validate_theta_and_x(\n"
     ]
    },
    {
     "name": "stdout",
     "output_type": "stream",
     "text": [
      " Neural network successfully converged after 93 epochs.Running round 4 of 5\n"
     ]
    },
    {
     "name": "stderr",
     "output_type": "stream",
     "text": [
      "Drawing 200 posterior samples: 100%|██████████| 200/200 [1:36:11<00:00, 28.86s/it]  \n"
     ]
    },
    {
     "name": "stdout",
     "output_type": "stream",
     "text": [
      "Using pathos for parallel simulation.\n",
      "Simulation took 149.73849487304688 sec.\n",
      "Using SNPE-C with atomic loss\n"
     ]
    },
    {
     "name": "stderr",
     "output_type": "stream",
     "text": [
      "c:\\Users\\bythe\\Desktop\\Glucose Project\\.venv\\Lib\\site-packages\\sbi\\inference\\trainers\\npe\\npe_base.py:157: UserWarning: Data x has device 'cuda:0'. Moving x to the data_device 'cuda'. Training will proceed on device 'cuda'.\n",
      "  theta, x = validate_theta_and_x(\n",
      "c:\\Users\\bythe\\Desktop\\Glucose Project\\.venv\\Lib\\site-packages\\sbi\\inference\\trainers\\npe\\npe_base.py:157: UserWarning: Parameters theta has device 'cuda:0'. Moving theta to the data_device 'cuda'. Training will proceed on device 'cuda'.\n",
      "  theta, x = validate_theta_and_x(\n"
     ]
    },
    {
     "name": "stdout",
     "output_type": "stream",
     "text": [
      " Neural network successfully converged after 40 epochs.Running round 5 of 5\n"
     ]
    },
    {
     "name": "stderr",
     "output_type": "stream",
     "text": [
      "Drawing 200 posterior samples:   0%|          | 1/200 [00:06<00:34,  5.75it/s]"
     ]
    }
   ],
   "source": [
    "posterior_dist = run_APT(prior, sbi_simulator, true_observation, num_rounds = 5, num_simulations = 200)"
   ]
  }
 ],
 "metadata": {
  "kernelspec": {
   "display_name": ".venv",
   "language": "python",
   "name": "python3"
  },
  "language_info": {
   "codemirror_mode": {
    "name": "ipython",
    "version": 3
   },
   "file_extension": ".py",
   "mimetype": "text/x-python",
   "name": "python",
   "nbconvert_exporter": "python",
   "pygments_lexer": "ipython3",
   "version": "3.12.3"
  }
 },
 "nbformat": 4,
 "nbformat_minor": 2
}
