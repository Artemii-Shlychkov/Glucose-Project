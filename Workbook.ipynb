{
 "cells": [
  {
   "cell_type": "code",
   "execution_count": 1,
   "metadata": {},
   "outputs": [
    {
     "name": "stderr",
     "output_type": "stream",
     "text": [
      "c:\\Users\\bythe\\Desktop\\Glucose Project\\.venv\\Lib\\site-packages\\tqdm\\auto.py:21: TqdmWarning: IProgress not found. Please update jupyter and ipywidgets. See https://ipywidgets.readthedocs.io/en/stable/user_install.html\n",
      "  from .autonotebook import tqdm as notebook_tqdm\n",
      "WARNING (pytensor.tensor.blas): Using NumPy C-API based implementation for BLAS functions.\n"
     ]
    }
   ],
   "source": [
    "import torch\n",
    "from sklearn.metrics import mean_squared_error\n",
    "from sbi.analysis import pairplot\n",
    "from sbi.inference import NPE\n",
    "from sbi.utils import BoxUniform\n",
    "from sbi.utils.user_input_checks import (\n",
    "    check_sbi_inputs,\n",
    "    process_prior,\n",
    "    process_simulator,\n",
    ")\n",
    "from sbi.inference.potentials import posterior_estimator_based_potential\n",
    "from sbi.samplers.rejection import rejection\n",
    "from sbi.utils.user_input_checks import process_prior as sbi_process_prior\n",
    "\n",
    "\n",
    "from simglucose.simulation.env import T1DSimEnv\n",
    "from simglucose.controller.basal_bolus_ctrller import BBController\n",
    "from simglucose.sensor.cgm import CGMSensor\n",
    "from simglucose.actuator.pump import InsulinPump\n",
    "from simglucose.patient.t1dpatient import T1DPatient\n",
    "from simglucose.simulation.scenario_gen import RandomScenario\n",
    "from simglucose.simulation.scenario import CustomScenario\n",
    "from simglucose.simulation.sim_engine import SimObj, sim, batch_sim\n",
    "from datetime import timedelta\n",
    "from datetime import datetime\n",
    "from torch.distributions import Distribution \n",
    "\n",
    "import seaborn as sns\n",
    "import pandas as pd\n",
    "import numpy as np\n",
    "import matplotlib.pyplot as plt\n",
    "from tqdm import tqdm\n",
    "from copy import deepcopy\n",
    "import time\n",
    "from torch.distributions import MultivariateNormal\n",
    "from dataclasses import dataclass, fields, field"
   ]
  },
  {
   "cell_type": "code",
   "execution_count": 2,
   "metadata": {},
   "outputs": [],
   "source": [
    "pathos = True\n",
    "try:\n",
    "    from pathos.multiprocessing import ProcessPool as Pool\n",
    "except ImportError:\n",
    "    print('You could install pathos to enable parallel simulation.')\n",
    "    pathos = False"
   ]
  },
  {
   "cell_type": "code",
   "execution_count": 18,
   "metadata": {},
   "outputs": [
    {
     "name": "stdout",
     "output_type": "stream",
     "text": [
      "n_params =  23\n"
     ]
    }
   ],
   "source": [
    "@dataclass\n",
    "class ParamPriors:\n",
    "    kmax: tuple = (0.01, 0.1)\n",
    "    kmin: tuple = (0.0, 0.05)\n",
    "    b: tuple = (0.5, 1.0)\n",
    "    d: tuple = (0.05, 0.5)\n",
    "    kabs: tuple = (0.01, 1.5)\n",
    "    kp1: tuple = (3.0, 12.0)\n",
    "    kp2: tuple = (0.0, 0.05)\n",
    "    kp3: tuple = (0.0, 0.05)\n",
    "    k1: tuple = (0.01, 0.2)\n",
    "    k2: tuple = (0.01, 0.5)\n",
    "    Vm0: tuple = (1.0, 15.0)\n",
    "    Vmx: tuple = (0.01, 0.2)\n",
    "    ka1: tuple = (0.001, 0.01)\n",
    "    ka2: tuple = (0.01, 0.05)\n",
    "    m1: tuple = (0.1, 0.5)\n",
    "    m2: tuple = (0.1, 0.5)\n",
    "    m30: tuple = (0.1, 1.0)\n",
    "    m4: tuple = (0.05, 0.2)\n",
    "    ki: tuple = (0.0, 0.05)\n",
    "    p2u: tuple = (0.01, 0.1)\n",
    "    Ib: tuple = (80.0, 140.0)\n",
    "    kd: tuple = (0.01, 0.03)\n",
    "    ksc: tuple = (0.05, 0.2)\n",
    "print('n_params = ', len(fields(ParamPriors)))"
   ]
  },
  {
   "cell_type": "code",
   "execution_count": 4,
   "metadata": {},
   "outputs": [],
   "source": [
    "def get_patient_params(env):\n",
    "    param_names = [f.name for f in fields(ParamPriors)]\n",
    "    params = [getattr(env.env.patient._params, param) for param in param_names]\n",
    "    return dict(zip(param_names, params))"
   ]
  },
  {
   "cell_type": "code",
   "execution_count": 5,
   "metadata": {},
   "outputs": [],
   "source": [
    "@dataclass\n",
    "class DeafultSimulationEnv:\n",
    "   patient_name: str = 'adolescent#002'\n",
    "   sensor_name: str = 'Dexcom'\n",
    "   pump_name: str = 'Insulet'\n",
    "   scenario: list[tuple[int,int]] = field(default_factory=lambda: [(7, 45), (12, 70), (16, 15), (18, 80), (23, 10)])\n",
    "   hours: int = 24  # hours to simulate"
   ]
  },
  {
   "cell_type": "code",
   "execution_count": 6,
   "metadata": {},
   "outputs": [
    {
     "name": "stdout",
     "output_type": "stream",
     "text": [
      "['kmax', 'kmin', 'b', 'd', 'kabs', 'kp1', 'kp2', 'kp3', 'k1', 'k2', 'Vm0', 'Vmx', 'ka1', 'ka2', 'm1', 'm2', 'm30', 'm4', 'ki', 'p2u', 'Ib', 'kd', 'ksc']\n",
      "[(0.01, 0.1), (0.0, 0.05), (0.5, 1.0), (0.05, 0.5), (0.01, 1.5), (3.0, 12.0), (0.0, 0.05), (0.0, 0.05), (0.01, 0.2), (0.01, 0.5), (1.0, 15.0), (0.01, 0.2), (0.001, 0.01), (0.01, 0.05), (0.1, 0.5), (0.1, 0.5), (0.1, 1.0), (0.05, 0.2), (0.0, 0.05), (0.01, 0.1), (80.0, 140.0), (0.01, 0.03), (0.05, 0.2)]\n"
     ]
    }
   ],
   "source": [
    "priors = ParamPriors()\n",
    "\n",
    "priors = ParamPriors()\n",
    "\n",
    "# get the names and default values of the parameters using fields\n",
    "param_names = [field.name for field in fields(priors)]\n",
    "param_values = [field.default for field in fields(priors)]\n",
    "\n",
    "print(param_names)\n",
    "print(param_values)"
   ]
  },
  {
   "cell_type": "code",
   "execution_count": 7,
   "metadata": {},
   "outputs": [],
   "source": [
    "def process_uniform_priors(priors: ParamPriors) -> Distribution:\n",
    "    \"\"\"Converts a ParamPriors object to a tuple of torch.distributions.Uniform objects.\n",
    "\n",
    "    Parameters\n",
    "    ----------\n",
    "    priors : ParamPriors\n",
    "        A DataClass object containing the prior ranges for the parameters.\n",
    "\n",
    "    Returns\n",
    "    -------\n",
    "    tuple\n",
    "        \n",
    "    \"\"\"\n",
    "    return sbi_process_prior(\n",
    "        [\n",
    "            torch.distributions.Uniform(\n",
    "                torch.tensor([field.default[0]]), torch.tensor([field.default[1]]),\n",
    "            )\n",
    "            for field in fields(priors)\n",
    "        ]\n",
    "    )[0]"
   ]
  },
  {
   "cell_type": "code",
   "execution_count": 8,
   "metadata": {},
   "outputs": [
    {
     "name": "stderr",
     "output_type": "stream",
     "text": [
      "C:\\Users\\bythe\\AppData\\Local\\Temp\\ipykernel_11440\\3183933013.py:14: UserWarning: Prior was provided as a sequence of 23 priors. They will be interpreted as independent of each other and matched in order to the components of the parameter.\n",
      "  return sbi_process_prior(\n",
      "c:\\Users\\bythe\\Desktop\\Glucose Project\\.venv\\Lib\\site-packages\\sbi\\utils\\user_input_checks.py:85: UserWarning: Casting 1D Uniform prior to BoxUniform to match sbi batch requirements.\n",
      "  return process_pytorch_prior(prior)\n"
     ]
    }
   ],
   "source": [
    "prior = process_uniform_priors(priors = ParamPriors())"
   ]
  },
  {
   "cell_type": "code",
   "execution_count": 9,
   "metadata": {},
   "outputs": [],
   "source": [
    "def load_default_simulation_env(env_settings: DeafultSimulationEnv = DeafultSimulationEnv(), hours:int =24) -> T1DSimEnv:\n",
    "    \"\"\"Load the default simulation environment.\n",
    "\n",
    "    Parameters\n",
    "    ----------\n",
    "    env_settings : DeafultSimulationEnv\n",
    "        DataClass object containing the default simulation environment settings.\n",
    "\n",
    "    Returns\n",
    "    -------\n",
    "    T1DSimEnv\n",
    "        The simulation environment object.\n",
    "    \"\"\"\n",
    "    now = datetime.now()\n",
    "    start_time = datetime.combine(now.date(), datetime.min.time())\n",
    "    \n",
    "    patient = T1DPatient.withName(env_settings.patient_name)\n",
    "    sensor = CGMSensor.withName(env_settings.sensor_name, seed = 1)\n",
    "    pump = InsulinPump.withName(env_settings.pump_name)\n",
    "    scenario = CustomScenario(start_time=start_time, scenario=env_settings.scenario)\n",
    "    controller = BBController()\n",
    "    env = T1DSimEnv(patient=patient, sensor=sensor, pump=pump, scenario=scenario)\n",
    "    \n",
    "    return SimObj(env = env, controller = controller, sim_time = timedelta(hours=hours), animate=False)"
   ]
  },
  {
   "cell_type": "code",
   "execution_count": 10,
   "metadata": {},
   "outputs": [],
   "source": [
    "def set_custom_params(patient, custom_params):\n",
    "    \"\"\"_summary_\n",
    "\n",
    "    Parameters\n",
    "    ----------\n",
    "    patient : _type_\n",
    "        _description_\n",
    "    custom_params : _type_\n",
    "        _description_\n",
    "    \"\"\"\n",
    "    param_names = [field.name for field in fields(ParamPriors())]\n",
    "    for i, param in enumerate(param_names):\n",
    "        setattr(patient._params, param, custom_params[i])"
   ]
  },
  {
   "cell_type": "code",
   "execution_count": 11,
   "metadata": {},
   "outputs": [],
   "source": [
    "def create_simulation_envs_with_custom_params(params_sets: torch.Tensor, hours: int = 24) -> list[T1DSimEnv]:\n",
    "    \"\"\"_summary_\n",
    "\n",
    "    Parameters\n",
    "    ----------\n",
    "    params_sets : torch.Tensor\n",
    "        _description_\n",
    "\n",
    "    Returns\n",
    "    -------\n",
    "    _type_\n",
    "        _description_\n",
    "    \"\"\"\n",
    "    default_simulation_env = load_default_simulation_env(hours = hours)\n",
    "\n",
    "    simulation_envs = []\n",
    "    for i in range(params_sets.shape[0]):\n",
    "        custom_sim_env = deepcopy(default_simulation_env)\n",
    "        patient_params = custom_sim_env.env.patient\n",
    "        set_custom_params(patient_params, params_sets[i])\n",
    "        simulation_envs.append(custom_sim_env)\n",
    "    return simulation_envs\n",
    "\n",
    "        \n",
    "    "
   ]
  },
  {
   "cell_type": "code",
   "execution_count": 12,
   "metadata": {},
   "outputs": [],
   "source": [
    "def simulate_glucose_dynamics(simulation_env: T1DSimEnv):\n",
    "    \"\"\"_summary_\n",
    "\n",
    "    Parameters\n",
    "    ----------\n",
    "    simulation_env : T1DSimEnv\n",
    "        _description_\n",
    "\n",
    "    Returns\n",
    "    -------\n",
    "    _type_\n",
    "        _description_\n",
    "    \"\"\"\n",
    "    simulation_env.simulate()\n",
    "    return simulation_env.results()['CGM'].values"
   ]
  },
  {
   "cell_type": "code",
   "execution_count": 13,
   "metadata": {},
   "outputs": [],
   "source": [
    "def simulate_batch(simulations: list[T1DSimEnv]):\n",
    "    \"\"\"_summary_\n",
    "\n",
    "    Parameters\n",
    "    ----------\n",
    "    simulations : list[T1DSimEnv]\n",
    "        _description_\n",
    "\n",
    "    Returns\n",
    "    -------\n",
    "    _type_\n",
    "        _description_\n",
    "    \"\"\"\n",
    "    tic = time.time()\n",
    "    if pathos:\n",
    "        with Pool() as p:\n",
    "            print('Using pathos for parallel simulation.')\n",
    "            results = p.map(simulate_glucose_dynamics, simulations)\n",
    "    else:\n",
    "        results = [simulate_glucose_dynamics(s) for s in tqdm(simulations)]\n",
    "    toc = time.time()\n",
    "    print('Simulation took {} sec.'.format(toc - tic))\n",
    "    results = np.stack(results)\n",
    "    return results"
   ]
  },
  {
   "cell_type": "code",
   "execution_count": 14,
   "metadata": {},
   "outputs": [],
   "source": [
    "def run_glucose_simulator(params_sets: torch.Tensor, hours: int = 24):\n",
    "    \"\"\"_summary_\n",
    "\n",
    "    Parameters\n",
    "    ----------\n",
    "    param_sets : torch.Tensor\n",
    "        _description_\n",
    "    hours : int, optional\n",
    "        _description_, by default 24\n",
    "\n",
    "    Returns\n",
    "    -------\n",
    "    _type_\n",
    "        _description_\n",
    "    \"\"\"\n",
    "    simulation_envs = create_simulation_envs_with_custom_params(params_sets = params_sets)\n",
    "    results = simulate_batch(simulation_envs)\n",
    "    return results"
   ]
  },
  {
   "cell_type": "code",
   "execution_count": 19,
   "metadata": {},
   "outputs": [],
   "source": [
    "def set_up_sbi_simulator(priors: ParamPriors = ParamPriors(), glucose_simulator: callable = run_glucose_simulator) -> callable:\n",
    "    \"\"\"_summary_\n",
    "\n",
    "    Parameters\n",
    "    ----------\n",
    "    priors : ParamPriors, optional\n",
    "        _description_, by default ParamPriors()\n",
    "    glucose_simulator : callable, optional\n",
    "        _description_, by default run_glucose_simulator\n",
    "\n",
    "    Returns\n",
    "    -------\n",
    "    callable\n",
    "        _description_\n",
    "    \"\"\"\n",
    "    processed_priors = process_uniform_priors(priors = priors)\n",
    "    sbi_sumulator = process_simulator(glucose_simulator, processed_priors, False)\n",
    "    check_sbi_inputs(sbi_sumulator, prior)\n",
    "    return sbi_sumulator"
   ]
  },
  {
   "cell_type": "code",
   "execution_count": 20,
   "metadata": {},
   "outputs": [
    {
     "name": "stderr",
     "output_type": "stream",
     "text": [
      "C:\\Users\\bythe\\AppData\\Local\\Temp\\ipykernel_11440\\3183933013.py:14: UserWarning: Prior was provided as a sequence of 23 priors. They will be interpreted as independent of each other and matched in order to the components of the parameter.\n",
      "  return sbi_process_prior(\n",
      "c:\\Users\\bythe\\Desktop\\Glucose Project\\.venv\\Lib\\site-packages\\sbi\\utils\\user_input_checks.py:85: UserWarning: Casting 1D Uniform prior to BoxUniform to match sbi batch requirements.\n",
      "  return process_pytorch_prior(prior)\n"
     ]
    },
    {
     "name": "stdout",
     "output_type": "stream",
     "text": [
      "Using pathos for parallel simulation.\n",
      "Simulation took 21.11811113357544 sec.\n",
      "Using pathos for parallel simulation.\n",
      "Simulation took 16.29920768737793 sec.\n"
     ]
    }
   ],
   "source": [
    "sbi_simulator = set_up_sbi_simulator()"
   ]
  },
  {
   "cell_type": "code",
   "execution_count": 21,
   "metadata": {},
   "outputs": [],
   "source": [
    "def get_true_observation(hours: int = 24) -> tuple[np.ndarray, dict]:\n",
    "    \"\"\" Returns the single glucose dynamcis simulation from the default simulation environment parameters and these parameters.\n",
    "\n",
    "    Returns\n",
    "    -------\n",
    "    np.ndarray\n",
    "        Time series of glucose dynamics.\n",
    "    \"\"\"\n",
    "    default_simulation_env = load_default_simulation_env(hours=hours)\n",
    "    default_simulation_env.simulate()\n",
    "    true_params = get_patient_params(default_simulation_env)\n",
    "    true_observation = default_simulation_env.results()['CGM'].to_numpy()\n",
    "    return true_observation, true_params"
   ]
  },
  {
   "cell_type": "code",
   "execution_count": 22,
   "metadata": {},
   "outputs": [],
   "source": [
    "def run_APT(prior: Distribution, simulator: callable, true_observation: np.ndarray, num_rounds: int = 10, num_simulations: int = 1000):\n",
    "    \"\"\"_summary_\n",
    "\n",
    "    Parameters\n",
    "    ----------\n",
    "    prior : Distribution\n",
    "        _description_\n",
    "    simulator : callable\n",
    "        _description_\n",
    "    num_rounds : int, optional\n",
    "        _description_, by default 5\n",
    "    num_simulations : int, optional\n",
    "        _description_, by default 1000\n",
    "\n",
    "    Returns\n",
    "    -------\n",
    "    _type_\n",
    "        _description_\n",
    "    \"\"\"\n",
    "    inference = NPE(prior)\n",
    "    proposal = prior\n",
    "    for _ in range(num_rounds):\n",
    "        print('Running round: ', _, ' of ', num_rounds)\n",
    "        theta = proposal.sample((num_simulations,))\n",
    "        x = simulator(theta)\n",
    "        _ = inference.append_simulations(theta, x, proposal=proposal).train()\n",
    "        posterior_dist = inference.build_posterior().set_default_x(true_observation)\n",
    "        proposal = posterior_dist\n",
    "    return posterior_dist"
   ]
  },
  {
   "cell_type": "code",
   "execution_count": 24,
   "metadata": {},
   "outputs": [
    {
     "data": {
      "image/png": "[encoded data removed]",
      "text/plain": [
       "<Figure size 640x480 with 1 Axes>"
      ]
     },
     "metadata": {},
     "output_type": "display_data"
    }
   ],
   "source": [
    "for i in range(5):\n",
    "    true_observation, true_params = get_true_observation(hours = 24)\n",
    "    plt.plot(true_observation)"
   ]
  },
  {
   "cell_type": "code",
   "execution_count": null,
   "metadata": {},
   "outputs": [],
   "source": [
    "def sample_from_posterior(posterior: Distribution, x_true: np.ndarray, num_samples: int = 1000) -> torch.Tensor: \n",
    "    posterior_samples = posterior.sample((num_samples,), x=x_true)\n",
    "    return posterior_samples"
   ]
  },
  {
   "cell_type": "code",
   "execution_count": null,
   "metadata": {},
   "outputs": [
    {
     "name": "stdout",
     "output_type": "stream",
     "text": [
      "Using pathos for parallel simulation.\n"
     ]
    }
   ],
   "source": [
    "posterior_dist = run_APT(prior, sbi_simulator, true_observation, num_rounds = 5, num_simulations = 200)"
   ]
  },
  {
   "cell_type": "code",
   "execution_count": null,
   "metadata": {},
   "outputs": [],
   "source": [
    "#123"
   ]
  }
 ],
 "metadata": {
  "kernelspec": {
   "display_name": ".venv",
   "language": "python",
   "name": "python3"
  },
  "language_info": {
   "codemirror_mode": {
    "name": "ipython",
    "version": 3
   },
   "file_extension": ".py",
   "mimetype": "text/x-python",
   "name": "python",
   "nbconvert_exporter": "python",
   "pygments_lexer": "ipython3",
   "version": "3.12.3"
  }
 },
 "nbformat": 4,
 "nbformat_minor": 2
}
