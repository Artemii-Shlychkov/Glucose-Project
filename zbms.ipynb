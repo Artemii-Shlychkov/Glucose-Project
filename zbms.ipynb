{
 "cells": [
  {
   "cell_type": "code",
   "execution_count": 1,
   "metadata": {},
   "outputs": [
    {
     "name": "stderr",
     "output_type": "stream",
     "text": [
      "WARNING (pytensor.tensor.blas): Using NumPy C-API based implementation for BLAS functions.\n"
     ]
    }
   ],
   "source": [
    "import argparse\n",
    "import inspect\n",
    "import json\n",
    "import logging\n",
    "import random\n",
    "import time\n",
    "from copy import deepcopy\n",
    "from dataclasses import dataclass, field\n",
    "from datetime import datetime, timedelta, timezone\n",
    "from functools import partial\n",
    "from pathlib import Path\n",
    "from typing import Callable\n",
    "\n",
    "import matplotlib.pyplot as plt\n",
    "import numpy as np\n",
    "import torch\n",
    "import yaml\n",
    "from pathos.multiprocessing import ProcessingPool as Pool\n",
    "from sbi.inference import NPE, SNPE, DirectPosterior\n",
    "from sbi.utils.user_input_checks import (\n",
    "    check_sbi_inputs,\n",
    "    process_prior,\n",
    "    process_simulator,\n",
    ")\n",
    "from simglucose.actuator.pump import InsulinPump\n",
    "from simglucose.controller.basal_bolus_ctrller import BBController\n",
    "from simglucose.patient.t1dpatient import T1DPatient\n",
    "from simglucose.sensor.cgm import CGMSensor\n",
    "from simglucose.simulation.env import T1DSimEnv\n",
    "from simglucose.simulation.scenario import CustomScenario\n",
    "from simglucose.simulation.sim_engine import SimObj\n",
    "from torch.distributions import Distribution\n",
    "from tqdm import tqdm\n",
    "\n",
    "from glucose_sbi.infer_parameters import get_patient_params\n",
    "from glucose_sbi.prepare_priors import (\n",
    "    InferredParams,\n",
    "    Prior,\n",
    "    construct_box_uniform_prior,\n",
    "    prepare_prior,\n",
    ")\n",
    "from sbi.utils import RestrictedPrior, get_density_thresholder"
   ]
  },
  {
   "cell_type": "code",
   "execution_count": 2,
   "metadata": {},
   "outputs": [],
   "source": [
    "import jupyter_black\n",
    "\n",
    "%load_ext jupyter_black\n",
    "\n",
    "jupyter_black.load(line_length=88)"
   ]
  },
  {
   "cell_type": "code",
   "execution_count": 3,
   "metadata": {},
   "outputs": [],
   "source": [
    "@dataclass\n",
    "class DeafultSimulationEnv:\n",
    "    \"\"\"Dataclass for the default simulation environment.\"\"\"\n",
    "\n",
    "    patient_name: str\n",
    "    sensor_name: str\n",
    "    pump_name: str\n",
    "    scenario: list[tuple[int, int]] = field(default_factory=list)\n",
    "    hours: int = 24  # hours to simulate"
   ]
  },
  {
   "cell_type": "code",
   "execution_count": 4,
   "metadata": {},
   "outputs": [],
   "source": [
    "def set_up_logging(saving_path: Path) -> logging.Logger:\n",
    "    \"\"\"Set up the logging configuration for the script.\"\"\"\n",
    "    logger = logging.getLogger(\"sbi_logger\")\n",
    "    logger.setLevel(logging.INFO)\n",
    "    handler = logging.FileHandler(Path(saving_path, \"inference_execution.log\"))\n",
    "    formatter = logging.Formatter(\n",
    "        \"%(asctime)s - %(levelname)s - %(message)s\", datefmt=\"%Y-%m-%d %H:%M:%S\"\n",
    "    )\n",
    "    handler.setFormatter(formatter)\n",
    "    logger.addHandler(handler)\n",
    "    return logger"
   ]
  },
  {
   "cell_type": "code",
   "execution_count": 5,
   "metadata": {},
   "outputs": [],
   "source": [
    "device = torch.device(\"cuda\" if torch.cuda.is_available() else \"cpu\")"
   ]
  },
  {
   "cell_type": "code",
   "execution_count": 6,
   "metadata": {},
   "outputs": [],
   "source": [
    "default_meal_7 = 45\n",
    "default_meal_12 = 70\n",
    "default_meal_16 = 15\n",
    "default_meal_18 = 80\n",
    "default_meal_23 = 10\n",
    "default_scenario = [\n",
    "    (7, default_meal_7),\n",
    "    (12, default_meal_12),\n",
    "    (16, default_meal_16),\n",
    "    (18, default_meal_18),\n",
    "    (23, default_meal_23),\n",
    "]"
   ]
  },
  {
   "cell_type": "code",
   "execution_count": 7,
   "metadata": {},
   "outputs": [],
   "source": [
    "script_logger = set_up_logging(Path(\"meals_logs\"))"
   ]
  },
  {
   "cell_type": "code",
   "execution_count": 8,
   "metadata": {},
   "outputs": [
    {
     "name": "stdout",
     "output_type": "stream",
     "text": [
      "Total carbs: 220\n",
      "Min meal: 10\n",
      "Max meal: 80\n"
     ]
    }
   ],
   "source": [
    "total_carbs = sum([meal[1] for meal in default_scenario])\n",
    "min_meal = min([meal[1] for meal in default_scenario])\n",
    "max_meal = max([meal[1] for meal in default_scenario])\n",
    "\n",
    "print(f\"Total carbs: {total_carbs}\")\n",
    "print(f\"Min meal: {min_meal}\")\n",
    "print(f\"Max meal: {max_meal}\")"
   ]
  },
  {
   "cell_type": "code",
   "execution_count": 9,
   "metadata": {},
   "outputs": [],
   "source": [
    "def _random_scenario() -> list[tuple[int, int]]:\n",
    "    \"\"\"Generate a random scenario.\"\"\"\n",
    "    return [\n",
    "        (7, random.randint(1, 100)),\n",
    "        (12, random.randint(1, 100)),\n",
    "        (16, random.randint(1, 100)),\n",
    "        (18, random.randint(1, 100)),\n",
    "        (23, random.randint(1, 100)),\n",
    "    ]"
   ]
  },
  {
   "cell_type": "code",
   "execution_count": 10,
   "metadata": {},
   "outputs": [],
   "source": [
    "patient_name = \"adolescent#002\"\n",
    "sensor_name = \"Dexcom\"\n",
    "pump_name = \"Insulet\""
   ]
  },
  {
   "cell_type": "code",
   "execution_count": 11,
   "metadata": {},
   "outputs": [],
   "source": [
    "def load_default_simulation_env(\n",
    "    env_settings: DeafultSimulationEnv, hours: int = 24\n",
    ") -> T1DSimEnv:\n",
    "    \"\"\"Load the default simulation environment.\n",
    "\n",
    "    Parameters\n",
    "    ----------\n",
    "    env_settings : DeafultSimulationEnv\n",
    "        DataClass object containing the default simulation environment settings.\n",
    "    hours : int, optional\n",
    "        The number of hours to simulate, by default 24\n",
    "\n",
    "    Returns\n",
    "    -------\n",
    "    T1DSimEnv\n",
    "        The simulation environment object.\n",
    "\n",
    "    \"\"\"\n",
    "    now = datetime.now(tz=timezone.utc)\n",
    "    start_time = datetime.combine(now.date(), datetime.min.time())\n",
    "\n",
    "    patient = T1DPatient.withName(env_settings.patient_name)\n",
    "    sensor = CGMSensor.withName(env_settings.sensor_name, seed=1)\n",
    "    pump = InsulinPump.withName(env_settings.pump_name)\n",
    "    scenario = CustomScenario(start_time=start_time, scenario=env_settings.scenario)\n",
    "    controller = BBController()\n",
    "    env = T1DSimEnv(patient=patient, sensor=sensor, pump=pump, scenario=scenario)\n",
    "\n",
    "    return SimObj(\n",
    "        env=env, controller=controller, sim_time=timedelta(hours=hours), animate=False\n",
    "    )"
   ]
  },
  {
   "cell_type": "code",
   "execution_count": 12,
   "metadata": {},
   "outputs": [],
   "source": [
    "def get_true_observation(\n",
    "    prior: Prior, env_settings: DeafultSimulationEnv, hours: int = 24\n",
    ") -> tuple[torch.Tensor, dict]:\n",
    "    \"\"\"Returns the single glucose dynamcis simulation from the default simulation environment parameters and these parameters.\n",
    "\n",
    "    Parameters\n",
    "    ----------\n",
    "    prior : Prior\n",
    "        DataClass object containing the priors for the parameters\n",
    "    env_settings : DeafultSimulationEnv\n",
    "        DataClass object containing the default simulation environment settings.\n",
    "    hours : int, optional\n",
    "        Duration of the simulation, by default 24\n",
    "\n",
    "    Returns\n",
    "    -------\n",
    "    np.ndarray\n",
    "        Time series of glucose dynamics.\n",
    "\n",
    "    \"\"\"\n",
    "    default_simulation_env = load_default_simulation_env(\n",
    "        env_settings=env_settings, hours=hours\n",
    "    )\n",
    "    default_simulation_env.simulate()\n",
    "    # true_params = get_patient_params(default_simulation_env, prior)\n",
    "    true_observation = default_simulation_env.results()[\"CGM\"].to_numpy()\n",
    "    true_observation = torch.from_numpy(true_observation).float().to(device)\n",
    "    return true_observation  # , true_params"
   ]
  },
  {
   "cell_type": "code",
   "execution_count": 13,
   "metadata": {},
   "outputs": [],
   "source": [
    "def run_glucose_simulator(\n",
    "    theta: torch.Tensor,\n",
    "    default_settings: DeafultSimulationEnv,\n",
    "    inferred_params: InferredParams,\n",
    "    hours: int = 24,\n",
    "    *,\n",
    "    device: torch.device,\n",
    "    infer_meal_params: bool = False,\n",
    "    logger: logging.Logger | None = None,\n",
    ") -> torch.Tensor:\n",
    "    \"\"\"Run the glucose simulator for a batch of custom parameters.\n",
    "\n",
    "    Parameters\n",
    "    ----------\n",
    "    theta : torch.Tensor\n",
    "        Sets of custom parameters to use for the simulation of shape (N_sets, N_params)\n",
    "    default_settings : DeafultSimulationEnv\n",
    "        DataClass object containing the default simulation environment settings.\n",
    "    inferred_params : InferredParams\n",
    "        DataClass object containing the names of inferred parameters\n",
    "    hours : int, optional\n",
    "        Duration of the simulation, by default 24\n",
    "    device : torch.device, optional\n",
    "        Device used to store the results, by default torch.device(\"cpu\")\n",
    "    logger : logging.Logger, optional\n",
    "        The logger object, by default None\n",
    "    infer_meal_params : bool, optional\n",
    "        Whether to infer meal parameters, by default False\n",
    "\n",
    "    Returns\n",
    "    -------\n",
    "    torch.Tensor\n",
    "        The glucose dynamics time series for each simulation\n",
    "\n",
    "    \"\"\"\n",
    "    if logger:\n",
    "        logger.info(\"Running the glucose simulator on theta of shape, %s\", theta.shape)\n",
    "    simulation_envs = create_simulation_envs_with_custom_params(\n",
    "        theta=theta,\n",
    "        default_settings=default_settings,\n",
    "        inferred_params=inferred_params,\n",
    "        infer_meal_params=infer_meal_params,\n",
    "        hours=hours,\n",
    "    )\n",
    "    return simulate_batch(simulation_envs, device, logger)\n",
    "\n",
    "\n",
    "def simulate_batch(\n",
    "    simulations: list[T1DSimEnv],\n",
    "    device: torch.device,\n",
    "    logger: logging.Logger | None = None,\n",
    ") -> torch.Tensor:\n",
    "    \"\"\"Simulate a batch of simulation environments in parallel.\n",
    "\n",
    "    Parameters\n",
    "    ----------\n",
    "    simulations : list[T1DSimEnv]\n",
    "        List of simulation environments\n",
    "    device : torch.device\n",
    "        The device to store the results on, by default torch.device(\"cpu\")\n",
    "    logger : logging.Logger, optional\n",
    "        The logger object, by default None\n",
    "\n",
    "    Returns\n",
    "    -------\n",
    "    torch.Tensor\n",
    "        The glucose dynamics for each simulation\n",
    "\n",
    "    \"\"\"\n",
    "    pathos = True\n",
    "    tic = time.time()\n",
    "    if pathos:\n",
    "        if logger:\n",
    "            logger.info(\"Using pathos for parallel processing\")\n",
    "        with Pool() as p:\n",
    "            results = p.map(simulate_glucose_dynamics, simulations)\n",
    "    else:\n",
    "        results = [simulate_glucose_dynamics(s) for s in tqdm(simulations)]\n",
    "    results = np.stack(results)\n",
    "    toc = time.time()\n",
    "    if logger:\n",
    "        # log in seconds\n",
    "        logger.info(\"Simulation took %s seconds\", toc - tic)\n",
    "    return torch.from_numpy(results).float().to(device)\n",
    "\n",
    "\n",
    "def simulate_glucose_dynamics(simulation_env: T1DSimEnv) -> np.ndarray:\n",
    "    \"\"\"Simulates the glucose dynamics for a given simulation environment.\n",
    "\n",
    "    Parameters\n",
    "    ----------\n",
    "    simulation_env : T1DSimEnv\n",
    "        The simulation environment object\n",
    "\n",
    "    Returns\n",
    "    -------\n",
    "    np.ndarray\n",
    "        The glucose dynamics\n",
    "\n",
    "    \"\"\"\n",
    "    simulation_env.simulate()\n",
    "    return simulation_env.results()[\"CGM\"].to_numpy()\n",
    "\n",
    "\n",
    "def create_simulation_envs_with_custom_params(\n",
    "    theta: torch.Tensor,\n",
    "    default_settings: DeafultSimulationEnv,\n",
    "    inferred_params: InferredParams,\n",
    "    hours: int = 24,\n",
    "    *,\n",
    "    infer_meal_params: bool = False,\n",
    ") -> list[T1DSimEnv]:\n",
    "    \"\"\"Creates a list of simulation environments with custom parameters.\n",
    "\n",
    "    Parameters\n",
    "    ----------\n",
    "    theta : torch.Tensor\n",
    "        Sets of custom parameters to use for the simulation of shape (N_sets, N_params)\n",
    "    default_settings : DeafultSimulationEnv\n",
    "        DataClass object containing the default simulation environment settings.\n",
    "    inferred_params : InferredParams\n",
    "        DataClass object containing the names of inferred parameters\n",
    "    hours : int, optional\n",
    "        Duration of simulation, by default 24\n",
    "    infer_meal_params : bool, optional\n",
    "        Whether to infer meal parameters, by default False\n",
    "\n",
    "    Returns\n",
    "    -------\n",
    "    list[T1DSimEnv]\n",
    "        List of simulation environments with custom parameters\n",
    "\n",
    "    \"\"\"\n",
    "    default_simulation_env = load_default_simulation_env(\n",
    "        hours=hours, env_settings=default_settings\n",
    "    )\n",
    "    simulation_envs = []\n",
    "    for _, theta_i in enumerate(theta):\n",
    "        custom_sim_env = deepcopy(default_simulation_env)\n",
    "\n",
    "        set_custom_params(\n",
    "            custom_sim_env,\n",
    "            theta_i,\n",
    "            inferred_params,\n",
    "            infer_meal_params=infer_meal_params,\n",
    "        )\n",
    "        simulation_envs.append(custom_sim_env)\n",
    "\n",
    "    return simulation_envs\n",
    "\n",
    "\n",
    "def set_custom_params(\n",
    "    default_simulation_env: DeafultSimulationEnv,\n",
    "    theta: torch.Tensor,\n",
    "    inferred_params: InferredParams,\n",
    "    *,\n",
    "    infer_meal_params: bool = False,\n",
    ") -> None:\n",
    "    \"\"\"Apply the custom parameters (used for a particular simulation) for the patient.\n",
    "\n",
    "    Parameters\n",
    "    ----------\n",
    "    default_simulation_env : DefaultSimulationEnv\n",
    "        The simulation environment containing the patient and scenario.\n",
    "    theta : torch.Tensor\n",
    "        One set of custom parameters to apply to the patient.\n",
    "    inferred_params : InferredParams\n",
    "        DataClass object containing the names of inferred parameters.\n",
    "    infer_meal_params : bool, optional\n",
    "        Whether to infer meal parameters, by default False\n",
    "\n",
    "    \"\"\"\n",
    "    theta_list = theta.clone().tolist()\n",
    "    param_names = inferred_params.params_names\n",
    "    patient = default_simulation_env.env.patient\n",
    "\n",
    "    # Separate meal and non-meal parameters\n",
    "    meal_indices, meal_values, other_params, other_values = _separate_parameters(\n",
    "        param_names, theta_list\n",
    "    )\n",
    "\n",
    "    if infer_meal_params and meal_indices:\n",
    "        # Update meal parameters in the scenario\n",
    "        _update_meal_parameters(\n",
    "            default_simulation_env.env.scenario.scenario, meal_values\n",
    "        )\n",
    "\n",
    "    # Update other parameters in the patient\n",
    "    _update_patient_parameters(patient, other_params, other_values)\n",
    "\n",
    "\n",
    "def _separate_parameters(\n",
    "    param_names: list[str], theta_list: list[float]\n",
    ") -> tuple[list[int], list[float], list[str], list[float]]:\n",
    "    \"\"\"Separate meal and non-meal parameters.\"\"\"\n",
    "    meal_indices = [i for i, param in enumerate(param_names) if \"meal\" in param]\n",
    "    meal_values = [theta_list[i] for i in meal_indices]\n",
    "\n",
    "    non_meal_indices_and_params = [\n",
    "        (i, param) for i, param in enumerate(param_names) if \"meal\" not in param\n",
    "    ]\n",
    "    other_params = [param for _, param in non_meal_indices_and_params]\n",
    "    other_values = [theta_list[i] for i, _ in non_meal_indices_and_params]\n",
    "\n",
    "    return meal_indices, meal_values, other_params, other_values\n",
    "\n",
    "\n",
    "def _update_meal_parameters(\n",
    "    scenario: list[tuple[str, float]], meal_values: list[float]\n",
    ") -> None:\n",
    "    \"\"\"Update meal parameters in the scenario.\"\"\"\n",
    "    for i, (meal_name, _) in enumerate(scenario):\n",
    "        scenario[i] = (meal_name, meal_values[i])\n",
    "\n",
    "\n",
    "def _update_patient_parameters(\n",
    "    patient: T1DPatient, params: list[str], values: list[float]\n",
    ") -> None:\n",
    "    \"\"\"Update non-meal parameters in the patient.\"\"\"\n",
    "    for param, value in zip(params, values):\n",
    "        setattr(patient._params, param, value)  # noqa: SLF001"
   ]
  },
  {
   "cell_type": "code",
   "execution_count": 14,
   "metadata": {},
   "outputs": [],
   "source": [
    "def _check_prior_for_meals(prior: Prior) -> bool:\n",
    "    \"\"\"Check if the prior contains meal parameters.\"\"\"\n",
    "    return any(\"meal\" in param for param in prior.params_names)\n",
    "\n",
    "\n",
    "def set_up_sbi_simulator(\n",
    "    prior: Prior,\n",
    "    default_settings: DeafultSimulationEnv,\n",
    "    glucose_simulator: Callable[..., torch.Tensor],\n",
    "    *,\n",
    "    device: torch.device,\n",
    "    infer_meal_params: bool = False,\n",
    ") -> Callable:\n",
    "    \"\"\"Sets up and checks the simulator for the Sequential Bayesian Inference (SBI) framework.\n",
    "\n",
    "    Parameters\n",
    "    ----------\n",
    "    default_settings : DeafultSimulationEnv\n",
    "        DataClass object containing the default simulation environment settings.\n",
    "    prior : Prior\n",
    "        DataClass object containing the priors for the parameters\n",
    "    device : torch.device\n",
    "        Device used to run the simulation\n",
    "    glucose_simulator : callable, optional\n",
    "        Function that runs the glucose simulator, by default run_glucose_simulator\n",
    "    processed_priors : Distribution, optional\n",
    "        Processed priors for the parameters, by default None\n",
    "    infer_meal_params : bool, optional\n",
    "        Whether to infer meal parameters, by default False\n",
    "\n",
    "    Returns\n",
    "    -------\n",
    "    callable\n",
    "        The SBI simulator function used to infer the parameters\n",
    "\n",
    "    \"\"\"\n",
    "    if infer_meal_params and not _check_prior_for_meals(prior):\n",
    "        script_logger.warning(\n",
    "            \"The prior distribution is missing meal parameters despite infer_meal_params being True\"\n",
    "        )\n",
    "\n",
    "    processed_priors, _, _ = process_prior(prior.params_prior_distribution)\n",
    "    script_logger.info(\n",
    "        \"Using prior distribution of shape: %s\", processed_priors.event_shape\n",
    "    )\n",
    "    wrapper = partial(\n",
    "        glucose_simulator,\n",
    "        default_settings=default_settings,\n",
    "        inferred_params=prior,\n",
    "        device=device,\n",
    "        logger=script_logger,\n",
    "        infer_meal_params=infer_meal_params,\n",
    "    )\n",
    "\n",
    "    sbi_simulator = process_simulator(\n",
    "        wrapper, processed_priors, is_numpy_simulator=True\n",
    "    )\n",
    "\n",
    "    check_sbi_inputs(sbi_simulator, processed_priors)\n",
    "\n",
    "    return sbi_simulator"
   ]
  },
  {
   "cell_type": "code",
   "execution_count": 15,
   "metadata": {},
   "outputs": [],
   "source": [
    "def sample_positive(\n",
    "    distribution: Distribution | DirectPosterior,\n",
    "    num_samples: int,\n",
    "    x_true: torch.Tensor | None = None,\n",
    "    batch_size: int | None = None,  # Adjustable batch size for efficiency\n",
    ") -> torch.Tensor:\n",
    "    \"\"\"Samples positive values from a distribution using batch processing.\n",
    "\n",
    "    Parameters\n",
    "    ----------\n",
    "    distribution : Distribution | DirectPosterior\n",
    "        The distribution to sample from.\n",
    "    num_samples : int\n",
    "        The number of positive samples to generate.\n",
    "    x_true : torch.Tensor, optional\n",
    "        The conditioning observation, if applicable.\n",
    "    batch_size : int, optional\n",
    "        The number of samples to draw in each batch to improve efficiency.\n",
    "\n",
    "    Returns\n",
    "    -------\n",
    "    torch.Tensor\n",
    "        The tensor of positive samples of shape (num_samples, num_params).\n",
    "\n",
    "    \"\"\"\n",
    "    if not batch_size:\n",
    "        batch_size = num_samples // 10\n",
    "\n",
    "    collected = []\n",
    "    # Determine if x should be passed\n",
    "    sample_params = inspect.signature(distribution.sample).parameters\n",
    "    kwargs = {\"x\": x_true} if \"x\" in sample_params else {}\n",
    "\n",
    "    total_collected = 0.0\n",
    "    last_logged_pct = 0.0\n",
    "\n",
    "    while total_collected < num_samples:\n",
    "        # Sample in batches\n",
    "        batch_samples = distribution.sample((batch_size,), **kwargs)\n",
    "\n",
    "        # Vectorized filtering of positive samples\n",
    "        positive_samples = batch_samples[torch.all(batch_samples > 0, dim=1)]\n",
    "\n",
    "        collected.append(positive_samples)\n",
    "        total_collected = sum(t.shape[0] for t in collected)\n",
    "\n",
    "        # Compute progress percentage\n",
    "        pct_complete = min(total_collected / num_samples * 100, 100)\n",
    "\n",
    "        # Log only if at least 10% more progress is made\n",
    "        milestone = 10.0\n",
    "        if pct_complete - last_logged_pct >= milestone:\n",
    "            script_logger.info(\"Collected %.2f%% of positive samples\", pct_complete)\n",
    "            last_logged_pct = pct_complete  # Update last logged percentage\n",
    "\n",
    "    # Concatenate and return exactly num_samples\n",
    "    return torch.cat(collected, dim=0)[:num_samples]"
   ]
  },
  {
   "cell_type": "code",
   "execution_count": 16,
   "metadata": {},
   "outputs": [],
   "source": [
    "def bayes_flow(\n",
    "    prior: Distribution, simulator: Callable, num_sims: int\n",
    ") -> DirectPosterior:\n",
    "    \"\"\"Run the BayesFlow algorithm (single round of NPE).\n",
    "\n",
    "    Parameters\n",
    "    ----------\n",
    "    prior : Distribution\n",
    "        The prior distribution for the parameters to infer.\n",
    "    simulator : Callable\n",
    "        The simulator function that generates the data.\n",
    "    num_sims : int\n",
    "        The number of simulations to run.\n",
    "\n",
    "    Returns\n",
    "    -------\n",
    "    DirectPosterior\n",
    "        The posterior distribution of the parameters.\n",
    "\n",
    "    \"\"\"\n",
    "    script_logger.info(\n",
    "        \"Running BayesFlow inference on prior of shape: %s\", prior.event_shape\n",
    "    )\n",
    "    inference = NPE(prior=prior, device=device)\n",
    "    theta = sample_positive(prior, num_sims)\n",
    "    x = simulator(theta)\n",
    "    theta = theta.to(device)\n",
    "    x = x.to(device)\n",
    "    inference.append_simulations(theta, x).train()\n",
    "    return inference.build_posterior()"
   ]
  },
  {
   "cell_type": "code",
   "execution_count": 17,
   "metadata": {},
   "outputs": [],
   "source": [
    "def tsnpe(\n",
    "    prior: Distribution,\n",
    "    simulator: Callable,\n",
    "    true_observation: torch.Tensor,\n",
    "    device: torch.device,\n",
    "    sample_proposal_with: str = \"rejection\",\n",
    "    num_rounds: int = 10,\n",
    "    num_simulations: int = 1000,\n",
    ") -> DirectPosterior:\n",
    "    \"\"\"Runs the Truncated Sequential Neural Posterior Estimation (TSNPE) algorithm.\n",
    "\n",
    "    Parameters\n",
    "    ----------\n",
    "    prior : Distribution\n",
    "        The prior distribution for the parameters to infer.\n",
    "    simulator : callable\n",
    "        The simulator function that generates the data.\n",
    "    true_observation : torch.Tensor\n",
    "        The true observation to compare the inference results to.\n",
    "    device : torch.device\n",
    "        The device to use for the simulation.\n",
    "    sampling_method : str\n",
    "        The sampling method to use in `build_posterior` method.\n",
    "    sample_proposal_with : str, optional\n",
    "        The sampling method to sample from the proposal distribution, by default \"rejection\"\n",
    "    num_rounds : int, optional\n",
    "        number  of inference rounds, by default 10\n",
    "    num_simulations : int, optional\n",
    "        number of simulations per inferenceround, by default 1000\n",
    "\n",
    "    Returns\n",
    "    -------\n",
    "    Posterior\n",
    "        The posterior distribution of the parameters.\n",
    "\n",
    "    \"\"\"\n",
    "    inference = SNPE(prior=prior, device=device)\n",
    "    proposal = prior\n",
    "    for r in range(num_rounds):\n",
    "\n",
    "        theta = sample_positive(proposal, num_simulations)\n",
    "        script_logger.info(\"Simulating theta of shape: %s\", theta.shape)\n",
    "        x = simulator(theta)\n",
    "        # Optional sanity check: ensure on same device\n",
    "        theta = theta.to(device)\n",
    "        x = x.to(device)\n",
    "\n",
    "        _ = inference.append_simulations(theta, x).train(force_first_round_loss=True)\n",
    "        posterior = inference.build_posterior(sample_with=\"direct\").set_default_x(\n",
    "            true_observation\n",
    "        )\n",
    "\n",
    "        accept_reject_fn = get_density_thresholder(posterior, quantile=1e-4)\n",
    "        proposal = RestrictedPrior(\n",
    "            prior,\n",
    "            accept_reject_fn,\n",
    "            sample_with=sample_proposal_with,\n",
    "            device=device,\n",
    "            posterior=posterior if sample_proposal_with == \"sir\" else None,\n",
    "        )\n",
    "\n",
    "    return posterior"
   ]
  },
  {
   "cell_type": "code",
   "execution_count": 18,
   "metadata": {},
   "outputs": [
    {
     "name": "stdout",
     "output_type": "stream",
     "text": [
      "True_meals:  [(7, 27), (12, 99), (16, 40), (18, 93), (23, 80)]\n"
     ]
    }
   ],
   "source": [
    "def_env = DeafultSimulationEnv(\n",
    "    patient_name=patient_name,\n",
    "    sensor_name=sensor_name,\n",
    "    pump_name=pump_name,\n",
    "    scenario=_random_scenario(),\n",
    "    hours=24,\n",
    ")\n",
    "true_meals = def_env.scenario\n",
    "print(\"True_meals: \", true_meals)"
   ]
  },
  {
   "cell_type": "code",
   "execution_count": 19,
   "metadata": {},
   "outputs": [
    {
     "name": "stderr",
     "output_type": "stream",
     "text": [
      "INFO:sbi_logger:Constructing BoxUniform prior...\n"
     ]
    }
   ],
   "source": [
    "prior = prepare_prior(\n",
    "    script_dir=Path(\"glucose_sbi\"),\n",
    "    data_file=\"params_trung.json\",\n",
    "    prior_type=\"uniform\",\n",
    "    number_of_params=10,\n",
    "    inflation_factor=1.0,\n",
    "    mean_shift=0,\n",
    "    device=device,\n",
    "    infer_meal_params=True,\n",
    ")"
   ]
  },
  {
   "cell_type": "code",
   "execution_count": 20,
   "metadata": {},
   "outputs": [
    {
     "data": {
      "text/plain": [
       "[<matplotlib.lines.Line2D at 0x281e19bed20>]"
      ]
     },
     "execution_count": 20,
     "metadata": {},
     "output_type": "execute_result"
    },
    {
     "data": {
      "image/png": "[encoded data removed]",
      "text/plain": [
       "<Figure size 640x480 with 1 Axes>"
      ]
     },
     "metadata": {},
     "output_type": "display_data"
    }
   ],
   "source": [
    "true_observation = get_true_observation(prior, def_env)\n",
    "true_observation_array = true_observation.cpu().numpy()\n",
    "plt.plot(true_observation_array)"
   ]
  },
  {
   "cell_type": "code",
   "execution_count": 21,
   "metadata": {},
   "outputs": [
    {
     "name": "stdout",
     "output_type": "stream",
     "text": [
      "['m1', 'ki', 'kp1', 'kd', 'd', 'ka2', 'kabs', 'Vmx', 'm2', 'ksc', 'meal_0', 'meal_1', 'meal_2', 'meal_3', 'meal_4']\n"
     ]
    }
   ],
   "source": [
    "print(prior.params_names)"
   ]
  },
  {
   "cell_type": "code",
   "execution_count": 22,
   "metadata": {},
   "outputs": [
    {
     "name": "stderr",
     "output_type": "stream",
     "text": [
      "INFO:sbi_logger:Using prior distribution of shape: torch.Size([15])\n",
      "INFO:sbi_logger:Running the glucose simulator on theta of shape, torch.Size([2, 15])\n",
      "INFO:sbi_logger:Using pathos for parallel processing\n",
      "INFO:sbi_logger:Simulation took 7.526661157608032 seconds\n",
      "INFO:sbi_logger:Running the glucose simulator on theta of shape, torch.Size([1, 15])\n",
      "INFO:sbi_logger:Using pathos for parallel processing\n",
      "INFO:sbi_logger:Simulation took 6.35505223274231 seconds\n"
     ]
    }
   ],
   "source": [
    "sbi_simulator = set_up_sbi_simulator(\n",
    "    prior=prior,\n",
    "    default_settings=def_env,\n",
    "    device=device,\n",
    "    glucose_simulator=run_glucose_simulator,\n",
    "    infer_meal_params=True,\n",
    ")"
   ]
  },
  {
   "cell_type": "code",
   "execution_count": 23,
   "metadata": {},
   "outputs": [
    {
     "name": "stderr",
     "output_type": "stream",
     "text": [
      "INFO:sbi_logger:Collected 10.00% of positive samples\n",
      "INFO:sbi_logger:Collected 20.00% of positive samples\n",
      "INFO:sbi_logger:Collected 30.00% of positive samples\n",
      "INFO:sbi_logger:Collected 40.00% of positive samples\n",
      "INFO:sbi_logger:Collected 50.00% of positive samples\n",
      "INFO:sbi_logger:Collected 60.00% of positive samples\n",
      "INFO:sbi_logger:Collected 70.00% of positive samples\n",
      "INFO:sbi_logger:Collected 80.00% of positive samples\n",
      "INFO:sbi_logger:Collected 90.00% of positive samples\n",
      "INFO:sbi_logger:Collected 100.00% of positive samples\n",
      "INFO:sbi_logger:Simulating theta of shape: torch.Size([500, 15])\n",
      "INFO:sbi_logger:Running the glucose simulator on theta of shape, torch.Size([500, 15])\n",
      "INFO:sbi_logger:Using pathos for parallel processing\n",
      "INFO:sbi_logger:Simulation took 380.0406708717346 seconds\n",
      "c:\\Users\\bythe\\Desktop\\Glucose Project\\.venv\\Lib\\site-packages\\sbi\\inference\\trainers\\npe\\npe_base.py:157: UserWarning: Data x has device 'cuda:0'. Moving x to the data_device 'cuda'. Training will proceed on device 'cuda'.\n",
      "  theta, x = validate_theta_and_x(\n",
      "c:\\Users\\bythe\\Desktop\\Glucose Project\\.venv\\Lib\\site-packages\\sbi\\inference\\trainers\\npe\\npe_base.py:157: UserWarning: Parameters theta has device 'cuda:0'. Moving theta to the data_device 'cuda'. Training will proceed on device 'cuda'.\n",
      "  theta, x = validate_theta_and_x(\n"
     ]
    },
    {
     "name": "stdout",
     "output_type": "stream",
     "text": [
      " Neural network successfully converged after 134 epochs."
     ]
    },
    {
     "data": {
      "application/vnd.jupyter.widget-view+json": {
       "model_id": "857931fd94704dcd83e67a61582309f7",
       "version_major": 2,
       "version_minor": 0
      },
      "text/plain": [
       "Drawing 1000000 posterior samples:   0%|          | 0/1000000 [00:00<?, ?it/s]"
      ]
     },
     "metadata": {},
     "output_type": "display_data"
    },
    {
     "data": {
      "application/vnd.jupyter.widget-view+json": {
       "model_id": "6308b9736fa24289b03af500a196fe9d",
       "version_major": 2,
       "version_minor": 0
      },
      "text/plain": [
       "Drawing 1600 posterior samples:   0%|          | 0/1600 [00:00<?, ?it/s]"
      ]
     },
     "metadata": {},
     "output_type": "display_data"
    },
    {
     "name": "stderr",
     "output_type": "stream",
     "text": [
      "INFO:sbi_logger:Collected 10.00% of positive samples\n"
     ]
    },
    {
     "data": {
      "application/vnd.jupyter.widget-view+json": {
       "model_id": "ed6e8600def14e9f9cce4480d1233e25",
       "version_major": 2,
       "version_minor": 0
      },
      "text/plain": [
       "Drawing 1600 posterior samples:   0%|          | 0/1600 [00:00<?, ?it/s]"
      ]
     },
     "metadata": {},
     "output_type": "display_data"
    },
    {
     "name": "stderr",
     "output_type": "stream",
     "text": [
      "INFO:sbi_logger:Collected 20.00% of positive samples\n"
     ]
    },
    {
     "data": {
      "application/vnd.jupyter.widget-view+json": {
       "model_id": "a401d9b2c3be4fd4ae9bc83f59fc7cd2",
       "version_major": 2,
       "version_minor": 0
      },
      "text/plain": [
       "Drawing 1600 posterior samples:   0%|          | 0/1600 [00:00<?, ?it/s]"
      ]
     },
     "metadata": {},
     "output_type": "display_data"
    },
    {
     "name": "stderr",
     "output_type": "stream",
     "text": [
      "INFO:sbi_logger:Collected 30.00% of positive samples\n"
     ]
    },
    {
     "data": {
      "application/vnd.jupyter.widget-view+json": {
       "model_id": "51f26cb384c643d597f023cc95f6d214",
       "version_major": 2,
       "version_minor": 0
      },
      "text/plain": [
       "Drawing 1600 posterior samples:   0%|          | 0/1600 [00:00<?, ?it/s]"
      ]
     },
     "metadata": {},
     "output_type": "display_data"
    },
    {
     "name": "stderr",
     "output_type": "stream",
     "text": [
      "INFO:sbi_logger:Collected 40.00% of positive samples\n"
     ]
    },
    {
     "data": {
      "application/vnd.jupyter.widget-view+json": {
       "model_id": "96ecdac832114400a38121348cb72375",
       "version_major": 2,
       "version_minor": 0
      },
      "text/plain": [
       "Drawing 1600 posterior samples:   0%|          | 0/1600 [00:00<?, ?it/s]"
      ]
     },
     "metadata": {},
     "output_type": "display_data"
    },
    {
     "name": "stderr",
     "output_type": "stream",
     "text": [
      "INFO:sbi_logger:Collected 50.00% of positive samples\n"
     ]
    },
    {
     "data": {
      "application/vnd.jupyter.widget-view+json": {
       "model_id": "85e8d3dce044402f978bf2190d37c5ef",
       "version_major": 2,
       "version_minor": 0
      },
      "text/plain": [
       "Drawing 1600 posterior samples:   0%|          | 0/1600 [00:00<?, ?it/s]"
      ]
     },
     "metadata": {},
     "output_type": "display_data"
    },
    {
     "name": "stderr",
     "output_type": "stream",
     "text": [
      "INFO:sbi_logger:Collected 60.00% of positive samples\n"
     ]
    },
    {
     "data": {
      "application/vnd.jupyter.widget-view+json": {
       "model_id": "c1807e338ee544c9a6a914277c339f8a",
       "version_major": 2,
       "version_minor": 0
      },
      "text/plain": [
       "Drawing 1600 posterior samples:   0%|          | 0/1600 [00:00<?, ?it/s]"
      ]
     },
     "metadata": {},
     "output_type": "display_data"
    },
    {
     "name": "stderr",
     "output_type": "stream",
     "text": [
      "INFO:sbi_logger:Collected 70.00% of positive samples\n"
     ]
    },
    {
     "data": {
      "application/vnd.jupyter.widget-view+json": {
       "model_id": "e51337f176ea47d6a307cdec9ba9c68f",
       "version_major": 2,
       "version_minor": 0
      },
      "text/plain": [
       "Drawing 1600 posterior samples:   0%|          | 0/1600 [00:00<?, ?it/s]"
      ]
     },
     "metadata": {},
     "output_type": "display_data"
    },
    {
     "name": "stderr",
     "output_type": "stream",
     "text": [
      "INFO:sbi_logger:Collected 80.00% of positive samples\n"
     ]
    },
    {
     "data": {
      "application/vnd.jupyter.widget-view+json": {
       "model_id": "1bc1abb4ca7e4733b507552a148121aa",
       "version_major": 2,
       "version_minor": 0
      },
      "text/plain": [
       "Drawing 1600 posterior samples:   0%|          | 0/1600 [00:00<?, ?it/s]"
      ]
     },
     "metadata": {},
     "output_type": "display_data"
    },
    {
     "name": "stderr",
     "output_type": "stream",
     "text": [
      "INFO:sbi_logger:Collected 90.00% of positive samples\n"
     ]
    },
    {
     "data": {
      "application/vnd.jupyter.widget-view+json": {
       "model_id": "9a3ddcdebaa64213aeb7c049fa2aaf71",
       "version_major": 2,
       "version_minor": 0
      },
      "text/plain": [
       "Drawing 1600 posterior samples:   0%|          | 0/1600 [00:00<?, ?it/s]"
      ]
     },
     "metadata": {},
     "output_type": "display_data"
    },
    {
     "name": "stderr",
     "output_type": "stream",
     "text": [
      "INFO:sbi_logger:Collected 100.00% of positive samples\n",
      "INFO:sbi_logger:Simulating theta of shape: torch.Size([500, 15])\n",
      "INFO:sbi_logger:Running the glucose simulator on theta of shape, torch.Size([500, 15])\n",
      "INFO:sbi_logger:Using pathos for parallel processing\n",
      "INFO:sbi_logger:Simulation took 387.5962038040161 seconds\n",
      "c:\\Users\\bythe\\Desktop\\Glucose Project\\.venv\\Lib\\site-packages\\sbi\\inference\\trainers\\npe\\npe_base.py:157: UserWarning: Data x has device 'cuda:0'. Moving x to the data_device 'cuda'. Training will proceed on device 'cuda'.\n",
      "  theta, x = validate_theta_and_x(\n",
      "c:\\Users\\bythe\\Desktop\\Glucose Project\\.venv\\Lib\\site-packages\\sbi\\inference\\trainers\\npe\\npe_base.py:157: UserWarning: Parameters theta has device 'cuda:0'. Moving theta to the data_device 'cuda'. Training will proceed on device 'cuda'.\n",
      "  theta, x = validate_theta_and_x(\n"
     ]
    },
    {
     "name": "stdout",
     "output_type": "stream",
     "text": [
      " Neural network successfully converged after 99 epochs."
     ]
    },
    {
     "data": {
      "application/vnd.jupyter.widget-view+json": {
       "model_id": "0ad197f914dc4023a59d0be04def0174",
       "version_major": 2,
       "version_minor": 0
      },
      "text/plain": [
       "Drawing 1000000 posterior samples:   0%|          | 0/1000000 [00:00<?, ?it/s]"
      ]
     },
     "metadata": {},
     "output_type": "display_data"
    },
    {
     "data": {
      "application/vnd.jupyter.widget-view+json": {
       "model_id": "4eda6a049d134f53a3fc71494523ef9b",
       "version_major": 2,
       "version_minor": 0
      },
      "text/plain": [
       "Drawing 1600 posterior samples:   0%|          | 0/1600 [00:00<?, ?it/s]"
      ]
     },
     "metadata": {},
     "output_type": "display_data"
    },
    {
     "name": "stderr",
     "output_type": "stream",
     "text": [
      "INFO:sbi_logger:Collected 10.00% of positive samples\n"
     ]
    },
    {
     "data": {
      "application/vnd.jupyter.widget-view+json": {
       "model_id": "8572473423c942c9aa4983caba2891e2",
       "version_major": 2,
       "version_minor": 0
      },
      "text/plain": [
       "Drawing 1600 posterior samples:   0%|          | 0/1600 [00:00<?, ?it/s]"
      ]
     },
     "metadata": {},
     "output_type": "display_data"
    },
    {
     "name": "stderr",
     "output_type": "stream",
     "text": [
      "INFO:sbi_logger:Collected 20.00% of positive samples\n"
     ]
    },
    {
     "data": {
      "application/vnd.jupyter.widget-view+json": {
       "model_id": "250732b8024242fda9f58f9c4b1cf74a",
       "version_major": 2,
       "version_minor": 0
      },
      "text/plain": [
       "Drawing 1600 posterior samples:   0%|          | 0/1600 [00:00<?, ?it/s]"
      ]
     },
     "metadata": {},
     "output_type": "display_data"
    },
    {
     "name": "stderr",
     "output_type": "stream",
     "text": [
      "INFO:sbi_logger:Collected 30.00% of positive samples\n"
     ]
    },
    {
     "data": {
      "application/vnd.jupyter.widget-view+json": {
       "model_id": "618b3b399a3149209a5d3025d89f83e4",
       "version_major": 2,
       "version_minor": 0
      },
      "text/plain": [
       "Drawing 1600 posterior samples:   0%|          | 0/1600 [00:00<?, ?it/s]"
      ]
     },
     "metadata": {},
     "output_type": "display_data"
    },
    {
     "name": "stderr",
     "output_type": "stream",
     "text": [
      "INFO:sbi_logger:Collected 40.00% of positive samples\n"
     ]
    },
    {
     "data": {
      "application/vnd.jupyter.widget-view+json": {
       "model_id": "33a9e23d9de3417fa4a8c1554dc986f6",
       "version_major": 2,
       "version_minor": 0
      },
      "text/plain": [
       "Drawing 1600 posterior samples:   0%|          | 0/1600 [00:00<?, ?it/s]"
      ]
     },
     "metadata": {},
     "output_type": "display_data"
    },
    {
     "name": "stderr",
     "output_type": "stream",
     "text": [
      "INFO:sbi_logger:Collected 50.00% of positive samples\n"
     ]
    },
    {
     "data": {
      "application/vnd.jupyter.widget-view+json": {
       "model_id": "f550f44a69024bfd83c9a8782f68cc1d",
       "version_major": 2,
       "version_minor": 0
      },
      "text/plain": [
       "Drawing 1600 posterior samples:   0%|          | 0/1600 [00:00<?, ?it/s]"
      ]
     },
     "metadata": {},
     "output_type": "display_data"
    },
    {
     "name": "stderr",
     "output_type": "stream",
     "text": [
      "INFO:sbi_logger:Collected 60.00% of positive samples\n"
     ]
    },
    {
     "data": {
      "application/vnd.jupyter.widget-view+json": {
       "model_id": "ef13cb5677ac47a1a229f1a45d68bbf8",
       "version_major": 2,
       "version_minor": 0
      },
      "text/plain": [
       "Drawing 1600 posterior samples:   0%|          | 0/1600 [00:00<?, ?it/s]"
      ]
     },
     "metadata": {},
     "output_type": "display_data"
    },
    {
     "name": "stderr",
     "output_type": "stream",
     "text": [
      "INFO:sbi_logger:Collected 70.00% of positive samples\n"
     ]
    },
    {
     "data": {
      "application/vnd.jupyter.widget-view+json": {
       "model_id": "62d1bac7a2fc461f8671c7b43f645568",
       "version_major": 2,
       "version_minor": 0
      },
      "text/plain": [
       "Drawing 1600 posterior samples:   0%|          | 0/1600 [00:00<?, ?it/s]"
      ]
     },
     "metadata": {},
     "output_type": "display_data"
    },
    {
     "name": "stderr",
     "output_type": "stream",
     "text": [
      "INFO:sbi_logger:Collected 80.00% of positive samples\n"
     ]
    },
    {
     "data": {
      "application/vnd.jupyter.widget-view+json": {
       "model_id": "bf00a209ed3f4e5e8f49471c1109e1fa",
       "version_major": 2,
       "version_minor": 0
      },
      "text/plain": [
       "Drawing 1600 posterior samples:   0%|          | 0/1600 [00:00<?, ?it/s]"
      ]
     },
     "metadata": {},
     "output_type": "display_data"
    },
    {
     "name": "stderr",
     "output_type": "stream",
     "text": [
      "INFO:sbi_logger:Collected 90.00% of positive samples\n"
     ]
    },
    {
     "data": {
      "application/vnd.jupyter.widget-view+json": {
       "model_id": "08bc6d434d574917b6e9275f62056f10",
       "version_major": 2,
       "version_minor": 0
      },
      "text/plain": [
       "Drawing 1600 posterior samples:   0%|          | 0/1600 [00:00<?, ?it/s]"
      ]
     },
     "metadata": {},
     "output_type": "display_data"
    },
    {
     "name": "stderr",
     "output_type": "stream",
     "text": [
      "INFO:sbi_logger:Collected 100.00% of positive samples\n",
      "INFO:sbi_logger:Simulating theta of shape: torch.Size([500, 15])\n",
      "INFO:sbi_logger:Running the glucose simulator on theta of shape, torch.Size([500, 15])\n",
      "INFO:sbi_logger:Using pathos for parallel processing\n",
      "INFO:sbi_logger:Simulation took 385.8660068511963 seconds\n",
      "c:\\Users\\bythe\\Desktop\\Glucose Project\\.venv\\Lib\\site-packages\\sbi\\inference\\trainers\\npe\\npe_base.py:157: UserWarning: Data x has device 'cuda:0'. Moving x to the data_device 'cuda'. Training will proceed on device 'cuda'.\n",
      "  theta, x = validate_theta_and_x(\n",
      "c:\\Users\\bythe\\Desktop\\Glucose Project\\.venv\\Lib\\site-packages\\sbi\\inference\\trainers\\npe\\npe_base.py:157: UserWarning: Parameters theta has device 'cuda:0'. Moving theta to the data_device 'cuda'. Training will proceed on device 'cuda'.\n",
      "  theta, x = validate_theta_and_x(\n"
     ]
    },
    {
     "name": "stdout",
     "output_type": "stream",
     "text": [
      " Neural network successfully converged after 95 epochs."
     ]
    },
    {
     "data": {
      "application/vnd.jupyter.widget-view+json": {
       "model_id": "d3ddd7f3451142018fa1c78b0b6a81ce",
       "version_major": 2,
       "version_minor": 0
      },
      "text/plain": [
       "Drawing 1000000 posterior samples:   0%|          | 0/1000000 [00:00<?, ?it/s]"
      ]
     },
     "metadata": {},
     "output_type": "display_data"
    }
   ],
   "source": [
    "posterior = tsnpe(\n",
    "    prior=prior.params_prior_distribution,\n",
    "    simulator=sbi_simulator,\n",
    "    num_simulations=500,\n",
    "    num_rounds=3,\n",
    "    sample_proposal_with=\"sir\",\n",
    "    device=device,\n",
    "    true_observation=true_observation,\n",
    ")"
   ]
  },
  {
   "cell_type": "code",
   "execution_count": 24,
   "metadata": {},
   "outputs": [
    {
     "data": {
      "application/vnd.jupyter.widget-view+json": {
       "model_id": "a44b4aa85492460db038432f7922157c",
       "version_major": 2,
       "version_minor": 0
      },
      "text/plain": [
       "Drawing 100 posterior samples:   0%|          | 0/100 [00:00<?, ?it/s]"
      ]
     },
     "metadata": {},
     "output_type": "display_data"
    }
   ],
   "source": [
    "samples = posterior.sample((100,), x=true_observation)"
   ]
  },
  {
   "cell_type": "code",
   "execution_count": 25,
   "metadata": {},
   "outputs": [
    {
     "data": {
      "text/plain": [
       "<matplotlib.collections.PathCollection at 0x283696320f0>"
      ]
     },
     "execution_count": 25,
     "metadata": {},
     "output_type": "execute_result"
    },
    {
     "data": {
      "image/png": "[encoded data removed]",
      "text/plain": [
       "<Figure size 640x480 with 1 Axes>"
      ]
     },
     "metadata": {},
     "output_type": "display_data"
    }
   ],
   "source": [
    "meal_times = [7, 12, 16, 18, 23]\n",
    "true_meals = [meal[1] for meal in true_meals]\n",
    "for i, sample in enumerate(samples):\n",
    "    plt.scatter(meal_times, sample[-5:].cpu().numpy(), c=\"r\", alpha=0.5)\n",
    "plt.scatter(meal_times, true_meals, c=\"b\", alpha=0.5)"
   ]
  },
  {
   "cell_type": "code",
   "execution_count": 26,
   "metadata": {},
   "outputs": [],
   "source": [
    "sim = run_glucose_simulator(\n",
    "    samples,\n",
    "    def_env,\n",
    "    inferred_params=InferredParams(prior.params_names),\n",
    "    device=device,\n",
    "    infer_meal_params=True,\n",
    ")"
   ]
  },
  {
   "cell_type": "code",
   "execution_count": 27,
   "metadata": {},
   "outputs": [
    {
     "data": {
      "text/plain": [
       "[<matplotlib.lines.Line2D at 0x281dc5a4bf0>,\n",
       " <matplotlib.lines.Line2D at 0x281dc5a7410>,\n",
       " <matplotlib.lines.Line2D at 0x2836afe6690>,\n",
       " <matplotlib.lines.Line2D at 0x2836afe5a90>,\n",
       " <matplotlib.lines.Line2D at 0x2836afe6630>,\n",
       " <matplotlib.lines.Line2D at 0x2836afe60c0>,\n",
       " <matplotlib.lines.Line2D at 0x2836afe7530>,\n",
       " <matplotlib.lines.Line2D at 0x2836afe5fa0>,\n",
       " <matplotlib.lines.Line2D at 0x281dc5a5280>,\n",
       " <matplotlib.lines.Line2D at 0x2836afe6f00>,\n",
       " <matplotlib.lines.Line2D at 0x2836afe78f0>,\n",
       " <matplotlib.lines.Line2D at 0x2836afe7ef0>,\n",
       " <matplotlib.lines.Line2D at 0x2836afe6180>,\n",
       " <matplotlib.lines.Line2D at 0x2836afe4560>,\n",
       " <matplotlib.lines.Line2D at 0x2836afe7cb0>,\n",
       " <matplotlib.lines.Line2D at 0x2836afe5af0>,\n",
       " <matplotlib.lines.Line2D at 0x2836afe67e0>,\n",
       " <matplotlib.lines.Line2D at 0x2836afe48c0>,\n",
       " <matplotlib.lines.Line2D at 0x2836afe4f20>,\n",
       " <matplotlib.lines.Line2D at 0x2836afe4110>,\n",
       " <matplotlib.lines.Line2D at 0x2836afe5a60>,\n",
       " <matplotlib.lines.Line2D at 0x2836afe7c80>,\n",
       " <matplotlib.lines.Line2D at 0x2836afe5460>,\n",
       " <matplotlib.lines.Line2D at 0x2836afe7c50>,\n",
       " <matplotlib.lines.Line2D at 0x2836afe79e0>,\n",
       " <matplotlib.lines.Line2D at 0x2836afe7140>,\n",
       " <matplotlib.lines.Line2D at 0x2836afe5970>,\n",
       " <matplotlib.lines.Line2D at 0x2836afe79b0>,\n",
       " <matplotlib.lines.Line2D at 0x2836afe4da0>,\n",
       " <matplotlib.lines.Line2D at 0x2836afe5940>,\n",
       " <matplotlib.lines.Line2D at 0x2836afe5220>,\n",
       " <matplotlib.lines.Line2D at 0x2836afe4980>,\n",
       " <matplotlib.lines.Line2D at 0x2836afe5550>,\n",
       " <matplotlib.lines.Line2D at 0x2836afe4d70>,\n",
       " <matplotlib.lines.Line2D at 0x2836afe7440>,\n",
       " <matplotlib.lines.Line2D at 0x2836afe5b50>,\n",
       " <matplotlib.lines.Line2D at 0x2836afe6ab0>,\n",
       " <matplotlib.lines.Line2D at 0x2836afe55b0>,\n",
       " <matplotlib.lines.Line2D at 0x2836afe53d0>,\n",
       " <matplotlib.lines.Line2D at 0x2836afe7200>,\n",
       " <matplotlib.lines.Line2D at 0x2836afe4320>,\n",
       " <matplotlib.lines.Line2D at 0x2836afe6e10>,\n",
       " <matplotlib.lines.Line2D at 0x2836afe52e0>,\n",
       " <matplotlib.lines.Line2D at 0x2836afe44a0>,\n",
       " <matplotlib.lines.Line2D at 0x2836afe7a40>,\n",
       " <matplotlib.lines.Line2D at 0x2836afe7aa0>,\n",
       " <matplotlib.lines.Line2D at 0x2836afe61e0>,\n",
       " <matplotlib.lines.Line2D at 0x283697487d0>,\n",
       " <matplotlib.lines.Line2D at 0x28369748a40>,\n",
       " <matplotlib.lines.Line2D at 0x283697488f0>,\n",
       " <matplotlib.lines.Line2D at 0x28369749af0>,\n",
       " <matplotlib.lines.Line2D at 0x2819784f6e0>,\n",
       " <matplotlib.lines.Line2D at 0x2819784ec90>,\n",
       " <matplotlib.lines.Line2D at 0x2819784e0c0>,\n",
       " <matplotlib.lines.Line2D at 0x2819784e030>,\n",
       " <matplotlib.lines.Line2D at 0x2819784ec60>,\n",
       " <matplotlib.lines.Line2D at 0x2819784f890>,\n",
       " <matplotlib.lines.Line2D at 0x2819784fec0>,\n",
       " <matplotlib.lines.Line2D at 0x2819784c290>,\n",
       " <matplotlib.lines.Line2D at 0x2819784e390>,\n",
       " <matplotlib.lines.Line2D at 0x2819784df40>,\n",
       " <matplotlib.lines.Line2D at 0x281dc5a4800>,\n",
       " <matplotlib.lines.Line2D at 0x2819784deb0>,\n",
       " <matplotlib.lines.Line2D at 0x2819784d400>,\n",
       " <matplotlib.lines.Line2D at 0x2819784fc80>,\n",
       " <matplotlib.lines.Line2D at 0x2819784eb40>,\n",
       " <matplotlib.lines.Line2D at 0x2819784daf0>,\n",
       " <matplotlib.lines.Line2D at 0x2819784fce0>,\n",
       " <matplotlib.lines.Line2D at 0x2819784e2d0>,\n",
       " <matplotlib.lines.Line2D at 0x2819784ea20>,\n",
       " <matplotlib.lines.Line2D at 0x2819784fd10>,\n",
       " <matplotlib.lines.Line2D at 0x2819784ed20>,\n",
       " <matplotlib.lines.Line2D at 0x2819784f830>,\n",
       " <matplotlib.lines.Line2D at 0x2819784dfd0>,\n",
       " <matplotlib.lines.Line2D at 0x2819784c4a0>,\n",
       " <matplotlib.lines.Line2D at 0x281dc5a6780>,\n",
       " <matplotlib.lines.Line2D at 0x2819784e000>,\n",
       " <matplotlib.lines.Line2D at 0x2819784c470>,\n",
       " <matplotlib.lines.Line2D at 0x283699524b0>,\n",
       " <matplotlib.lines.Line2D at 0x28369950b00>,\n",
       " <matplotlib.lines.Line2D at 0x28369950e00>,\n",
       " <matplotlib.lines.Line2D at 0x28369950950>,\n",
       " <matplotlib.lines.Line2D at 0x283699525a0>,\n",
       " <matplotlib.lines.Line2D at 0x28369951970>,\n",
       " <matplotlib.lines.Line2D at 0x28369950890>,\n",
       " <matplotlib.lines.Line2D at 0x28369950ad0>,\n",
       " <matplotlib.lines.Line2D at 0x28369953050>,\n",
       " <matplotlib.lines.Line2D at 0x28369951070>,\n",
       " <matplotlib.lines.Line2D at 0x28369950da0>,\n",
       " <matplotlib.lines.Line2D at 0x28369950e60>,\n",
       " <matplotlib.lines.Line2D at 0x28369950e30>,\n",
       " <matplotlib.lines.Line2D at 0x283699508c0>,\n",
       " <matplotlib.lines.Line2D at 0x28369950a40>,\n",
       " <matplotlib.lines.Line2D at 0x28369950080>,\n",
       " <matplotlib.lines.Line2D at 0x283699505c0>,\n",
       " <matplotlib.lines.Line2D at 0x28369950770>,\n",
       " <matplotlib.lines.Line2D at 0x28369951c70>,\n",
       " <matplotlib.lines.Line2D at 0x28369951f10>,\n",
       " <matplotlib.lines.Line2D at 0x28369951df0>,\n",
       " <matplotlib.lines.Line2D at 0x28369951130>]"
      ]
     },
     "execution_count": 27,
     "metadata": {},
     "output_type": "execute_result"
    },
    {
     "data": {
      "image/png": "[encoded data removed]",
      "text/plain": [
       "<Figure size 640x480 with 1 Axes>"
      ]
     },
     "metadata": {},
     "output_type": "display_data"
    }
   ],
   "source": [
    "sim_array = sim.cpu().numpy()\n",
    "plt.plot(sim_array.T, alpha=0.1, c=\"black\")"
   ]
  },
  {
   "cell_type": "code",
   "execution_count": 28,
   "metadata": {},
   "outputs": [
    {
     "data": {
      "text/plain": [
       "[<matplotlib.lines.Line2D at 0x281dc5ca330>]"
      ]
     },
     "execution_count": 28,
     "metadata": {},
     "output_type": "execute_result"
    },
    {
     "data": {
      "image/png": "[encoded data removed]",
      "text/plain": [
       "<Figure size 640x480 with 1 Axes>"
      ]
     },
     "metadata": {},
     "output_type": "display_data"
    }
   ],
   "source": [
    "sim_array = sim.cpu().numpy()\n",
    "mean_sim = np.mean(sim_array, axis=0)\n",
    "std_sim = np.std(sim_array, axis=0)\n",
    "plt.plot(np.mean(sim_array, axis=0), label=\"Mean simulation\", color=\"black\")\n",
    "plt.fill_between(\n",
    "    range(481), mean_sim - 2 * std_sim, mean_sim + 2 * std_sim, color=\"black\", alpha=0.5\n",
    ")\n",
    "\n",
    "plt.plot(true_observation_array, label=\"True observation\", color=\"green\")"
   ]
  }
 ],
 "metadata": {
  "kernelspec": {
   "display_name": ".venv",
   "language": "python",
   "name": "python3"
  },
  "language_info": {
   "codemirror_mode": {
    "name": "ipython",
    "version": 3
   },
   "file_extension": ".py",
   "mimetype": "text/x-python",
   "name": "python",
   "nbconvert_exporter": "python",
   "pygments_lexer": "ipython3",
   "version": "3.12.3"
  }
 },
 "nbformat": 4,
 "nbformat_minor": 2
}
