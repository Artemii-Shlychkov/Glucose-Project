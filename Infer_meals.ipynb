{
 "cells": [
  {
   "cell_type": "code",
   "execution_count": 1,
   "metadata": {},
   "outputs": [
    {
     "name": "stderr",
     "output_type": "stream",
     "text": [
      "WARNING (pytensor.tensor.blas): Using NumPy C-API based implementation for BLAS functions.\n"
     ]
    }
   ],
   "source": [
    "import inspect\n",
    "import logging\n",
    "import random\n",
    "import time\n",
    "from copy import deepcopy\n",
    "from dataclasses import dataclass, field\n",
    "from datetime import datetime, timedelta, timezone\n",
    "from functools import partial\n",
    "from pathlib import Path\n",
    "from typing import Callable\n",
    "\n",
    "import matplotlib.pyplot as plt\n",
    "import numpy as np\n",
    "import torch\n",
    "from pathos.multiprocessing import ProcessingPool as Pool\n",
    "from sbi.inference import NPE, DirectPosterior\n",
    "from sbi.utils.user_input_checks import (\n",
    "    check_sbi_inputs,\n",
    "    process_prior,\n",
    "    process_simulator,\n",
    ")\n",
    "from simglucose.actuator.pump import InsulinPump\n",
    "from simglucose.controller.basal_bolus_ctrller import BBController\n",
    "from simglucose.patient.t1dpatient import T1DPatient\n",
    "from simglucose.sensor.cgm import CGMSensor\n",
    "from simglucose.simulation.env import T1DSimEnv\n",
    "from simglucose.simulation.scenario import CustomScenario\n",
    "from simglucose.simulation.sim_engine import SimObj\n",
    "from torch.distributions import Distribution\n",
    "from tqdm import tqdm\n",
    "\n",
    "from glucose_sbi.infer_parameters import get_patient_params\n",
    "from glucose_sbi.prepare_priors import (\n",
    "    InferredParams,\n",
    "    Prior,\n",
    "    prepare_prior,\n",
    ")"
   ]
  },
  {
   "cell_type": "code",
   "execution_count": 2,
   "metadata": {},
   "outputs": [],
   "source": [
    "import jupyter_black\n",
    "\n",
    "%load_ext jupyter_black\n",
    "\n",
    "jupyter_black.load(line_length=88)"
   ]
  },
  {
   "cell_type": "code",
   "execution_count": 3,
   "metadata": {},
   "outputs": [],
   "source": [
    "@dataclass\n",
    "class DeafultSimulationEnv:\n",
    "    \"\"\"Dataclass for the default simulation environment.\"\"\"\n",
    "\n",
    "    patient_name: str\n",
    "    sensor_name: str\n",
    "    pump_name: str\n",
    "    scenario: list[tuple[int, int]] = field(default_factory=list)\n",
    "    hours: int = 24  # hours to simulate"
   ]
  },
  {
   "cell_type": "code",
   "execution_count": 4,
   "metadata": {},
   "outputs": [],
   "source": [
    "def set_up_logging(saving_path: Path) -> logging.Logger:\n",
    "    \"\"\"Set up the logging configuration for the script.\"\"\"\n",
    "    logger = logging.getLogger(\"sbi_logger\")\n",
    "    logger.setLevel(logging.INFO)\n",
    "    handler = logging.FileHandler(Path(saving_path, \"inference_execution.log\"))\n",
    "    formatter = logging.Formatter(\n",
    "        \"%(asctime)s - %(levelname)s - %(message)s\", datefmt=\"%Y-%m-%d %H:%M:%S\"\n",
    "    )\n",
    "    handler.setFormatter(formatter)\n",
    "    logger.addHandler(handler)\n",
    "    return logger"
   ]
  },
  {
   "cell_type": "code",
   "execution_count": 5,
   "metadata": {},
   "outputs": [],
   "source": [
    "device = torch.device(\"cuda\" if torch.cuda.is_available() else \"cpu\")"
   ]
  },
  {
   "cell_type": "code",
   "execution_count": 6,
   "metadata": {},
   "outputs": [],
   "source": [
    "default_meal_7 = 45\n",
    "default_meal_12 = 70\n",
    "default_meal_16 = 15\n",
    "default_meal_18 = 80\n",
    "default_meal_23 = 10\n",
    "default_scenario = [\n",
    "    (7, default_meal_7),\n",
    "    (12, default_meal_12),\n",
    "    (16, default_meal_16),\n",
    "    (18, default_meal_18),\n",
    "    (23, default_meal_23),\n",
    "]"
   ]
  },
  {
   "cell_type": "code",
   "execution_count": 7,
   "metadata": {},
   "outputs": [],
   "source": [
    "script_logger = set_up_logging(Path(\"meals_logs\"))"
   ]
  },
  {
   "cell_type": "code",
   "execution_count": null,
   "metadata": {},
   "outputs": [
    {
     "name": "stdout",
     "output_type": "stream",
     "text": [
      "Total carbs: 220\n",
      "Min meal: 10\n",
      "Max meal: 80\n"
     ]
    }
   ],
   "source": [
    "total_carbs = sum([meal[1] for meal in default_scenario])\n",
    "min_meal = min([meal[1] for meal in default_scenario])\n",
    "max_meal = max([meal[1] for meal in default_scenario])"
   ]
  },
  {
   "cell_type": "code",
   "execution_count": 9,
   "metadata": {},
   "outputs": [],
   "source": [
    "def _random_scenario() -> list[tuple[int, int]]:\n",
    "    \"\"\"Generate a random scenario.\"\"\"\n",
    "    return [\n",
    "        (7, random.randint(1, 100)),\n",
    "        (12, random.randint(1, 100)),\n",
    "        (16, random.randint(1, 100)),\n",
    "        (18, random.randint(1, 100)),\n",
    "        (23, random.randint(1, 100)),\n",
    "    ]"
   ]
  },
  {
   "cell_type": "code",
   "execution_count": 10,
   "metadata": {},
   "outputs": [],
   "source": [
    "patient_name = \"adolescent#002\"\n",
    "sensor_name = \"Dexcom\"\n",
    "pump_name = \"Insulet\""
   ]
  },
  {
   "cell_type": "code",
   "execution_count": 11,
   "metadata": {},
   "outputs": [],
   "source": [
    "def load_default_simulation_env(\n",
    "    env_settings: DeafultSimulationEnv, hours: int = 24\n",
    ") -> T1DSimEnv:\n",
    "    \"\"\"Load the default simulation environment.\n",
    "\n",
    "    Parameters\n",
    "    ----------\n",
    "    env_settings : DeafultSimulationEnv\n",
    "        DataClass object containing the default simulation environment settings.\n",
    "    hours : int, optional\n",
    "        The number of hours to simulate, by default 24\n",
    "\n",
    "    Returns\n",
    "    -------\n",
    "    T1DSimEnv\n",
    "        The simulation environment object.\n",
    "\n",
    "    \"\"\"\n",
    "    now = datetime.now(tz=timezone.utc)\n",
    "    start_time = datetime.combine(now.date(), datetime.min.time())\n",
    "\n",
    "    patient = T1DPatient.withName(env_settings.patient_name)\n",
    "    sensor = CGMSensor.withName(env_settings.sensor_name, seed=1)\n",
    "    pump = InsulinPump.withName(env_settings.pump_name)\n",
    "    scenario = CustomScenario(start_time=start_time, scenario=env_settings.scenario)\n",
    "    controller = BBController()\n",
    "    env = T1DSimEnv(patient=patient, sensor=sensor, pump=pump, scenario=scenario)\n",
    "\n",
    "    return SimObj(\n",
    "        env=env, controller=controller, sim_time=timedelta(hours=hours), animate=False\n",
    "    )"
   ]
  },
  {
   "cell_type": "code",
   "execution_count": 12,
   "metadata": {},
   "outputs": [],
   "source": [
    "def get_true_observation(\n",
    "    prior: Prior, env_settings: DeafultSimulationEnv, hours: int = 24\n",
    ") -> tuple[torch.Tensor, dict]:\n",
    "    \"\"\"Returns the single glucose dynamcis simulation from the default simulation environment parameters and these parameters.\n",
    "\n",
    "    Parameters\n",
    "    ----------\n",
    "    prior : Prior\n",
    "        DataClass object containing the priors for the parameters\n",
    "    env_settings : DeafultSimulationEnv\n",
    "        DataClass object containing the default simulation environment settings.\n",
    "    hours : int, optional\n",
    "        Duration of the simulation, by default 24\n",
    "\n",
    "    Returns\n",
    "    -------\n",
    "    np.ndarray\n",
    "        Time series of glucose dynamics.\n",
    "\n",
    "    \"\"\"\n",
    "    default_simulation_env = load_default_simulation_env(\n",
    "        env_settings=env_settings, hours=hours\n",
    "    )\n",
    "    default_simulation_env.simulate()\n",
    "    true_params = get_patient_params(default_simulation_env, prior)\n",
    "    true_observation = default_simulation_env.results()[\"CGM\"].to_numpy()\n",
    "    true_observation = torch.from_numpy(true_observation).float().to(device)\n",
    "    return true_observation, true_params"
   ]
  },
  {
   "cell_type": "code",
   "execution_count": 13,
   "metadata": {},
   "outputs": [],
   "source": [
    "def run_glucose_simulator(\n",
    "    theta: torch.Tensor,\n",
    "    default_settings: DeafultSimulationEnv,\n",
    "    inferred_params: InferredParams,\n",
    "    hours: int = 24,\n",
    "    *,\n",
    "    device: torch.device,\n",
    "    infer_meal_params: bool = False,\n",
    "    logger: logging.Logger | None = None,\n",
    ") -> torch.Tensor:\n",
    "    \"\"\"Run the glucose simulator for a batch of custom parameters.\n",
    "\n",
    "    Parameters\n",
    "    ----------\n",
    "    theta : torch.Tensor\n",
    "        Sets of custom parameters to use for the simulation of shape (N_sets, N_params)\n",
    "    default_settings : DeafultSimulationEnv\n",
    "        DataClass object containing the default simulation environment settings.\n",
    "    inferred_params : InferredParams\n",
    "        DataClass object containing the names of inferred parameters\n",
    "    hours : int, optional\n",
    "        Duration of the simulation, by default 24\n",
    "    device : torch.device, optional\n",
    "        Device used to store the results, by default torch.device(\"cpu\")\n",
    "    logger : logging.Logger, optional\n",
    "        The logger object, by default None\n",
    "    infer_meal_params : bool, optional\n",
    "        Whether to infer meal parameters, by default False\n",
    "\n",
    "    Returns\n",
    "    -------\n",
    "    torch.Tensor\n",
    "        The glucose dynamics time series for each simulation\n",
    "\n",
    "    \"\"\"\n",
    "    if logger:\n",
    "        logger.info(\"Running the glucose simulator on theta of shape, %s\", theta.shape)\n",
    "    simulation_envs = create_simulation_envs_with_custom_params(\n",
    "        theta=theta,\n",
    "        default_settings=default_settings,\n",
    "        inferred_params=inferred_params,\n",
    "        infer_meal_params=infer_meal_params,\n",
    "        hours=hours,\n",
    "    )\n",
    "    return simulate_batch(simulation_envs, device, logger)\n",
    "\n",
    "\n",
    "def simulate_batch(\n",
    "    simulations: list[T1DSimEnv],\n",
    "    device: torch.device,\n",
    "    logger: logging.Logger | None = None,\n",
    ") -> torch.Tensor:\n",
    "    \"\"\"Simulate a batch of simulation environments in parallel.\n",
    "\n",
    "    Parameters\n",
    "    ----------\n",
    "    simulations : list[T1DSimEnv]\n",
    "        List of simulation environments\n",
    "    device : torch.device\n",
    "        The device to store the results on, by default torch.device(\"cpu\")\n",
    "    logger : logging.Logger, optional\n",
    "        The logger object, by default None\n",
    "\n",
    "    Returns\n",
    "    -------\n",
    "    torch.Tensor\n",
    "        The glucose dynamics for each simulation\n",
    "\n",
    "    \"\"\"\n",
    "    pathos = True\n",
    "    tic = time.time()\n",
    "    if pathos:\n",
    "        if logger:\n",
    "            logger.info(\"Using pathos for parallel processing\")\n",
    "        with Pool() as p:\n",
    "            results = p.map(simulate_glucose_dynamics, simulations)\n",
    "    else:\n",
    "        results = [simulate_glucose_dynamics(s) for s in tqdm(simulations)]\n",
    "    results = np.stack(results)\n",
    "    toc = time.time()\n",
    "    if logger:\n",
    "        # log in seconds\n",
    "        logger.info(\"Simulation took %s seconds\", toc - tic)\n",
    "    return torch.from_numpy(results).float().to(device)\n",
    "\n",
    "\n",
    "def simulate_glucose_dynamics(simulation_env: T1DSimEnv) -> np.ndarray:\n",
    "    \"\"\"Simulates the glucose dynamics for a given simulation environment.\n",
    "\n",
    "    Parameters\n",
    "    ----------\n",
    "    simulation_env : T1DSimEnv\n",
    "        The simulation environment object\n",
    "\n",
    "    Returns\n",
    "    -------\n",
    "    np.ndarray\n",
    "        The glucose dynamics\n",
    "\n",
    "    \"\"\"\n",
    "    simulation_env.simulate()\n",
    "    return simulation_env.results()[\"CGM\"].to_numpy()\n",
    "\n",
    "\n",
    "def create_simulation_envs_with_custom_params(\n",
    "    theta: torch.Tensor,\n",
    "    default_settings: DeafultSimulationEnv,\n",
    "    inferred_params: InferredParams,\n",
    "    hours: int = 24,\n",
    "    *,\n",
    "    infer_meal_params: bool = False,\n",
    ") -> list[T1DSimEnv]:\n",
    "    \"\"\"Creates a list of simulation environments with custom parameters.\n",
    "\n",
    "    Parameters\n",
    "    ----------\n",
    "    theta : torch.Tensor\n",
    "        Sets of custom parameters to use for the simulation of shape (N_sets, N_params)\n",
    "    default_settings : DeafultSimulationEnv\n",
    "        DataClass object containing the default simulation environment settings.\n",
    "    inferred_params : InferredParams\n",
    "        DataClass object containing the names of inferred parameters\n",
    "    hours : int, optional\n",
    "        Duration of simulation, by default 24\n",
    "    infer_meal_params : bool, optional\n",
    "        Whether to infer meal parameters, by default False\n",
    "\n",
    "    Returns\n",
    "    -------\n",
    "    list[T1DSimEnv]\n",
    "        List of simulation environments with custom parameters\n",
    "\n",
    "    \"\"\"\n",
    "    default_simulation_env = load_default_simulation_env(\n",
    "        hours=hours, env_settings=default_settings\n",
    "    )\n",
    "    simulation_envs = []\n",
    "    for _, theta_i in enumerate(theta):\n",
    "        custom_sim_env = deepcopy(default_simulation_env)\n",
    "\n",
    "        set_custom_params(\n",
    "            custom_sim_env,\n",
    "            theta_i,\n",
    "            inferred_params,\n",
    "            infer_meal_params=infer_meal_params,\n",
    "        )\n",
    "        simulation_envs.append(custom_sim_env)\n",
    "\n",
    "    return simulation_envs\n",
    "\n",
    "\n",
    "def set_custom_params(\n",
    "    default_simulation_env: DeafultSimulationEnv,\n",
    "    theta: torch.Tensor,\n",
    "    inferred_params: InferredParams,\n",
    "    *,\n",
    "    infer_meal_params: bool = False,\n",
    ") -> None:\n",
    "    \"\"\"Apply the custom parameters (used for a particular simulation) for the patient.\n",
    "\n",
    "    Parameters\n",
    "    ----------\n",
    "    default_simulation_env : DefaultSimulationEnv\n",
    "        The simulation environment containing the patient and scenario.\n",
    "    theta : torch.Tensor\n",
    "        One set of custom parameters to apply to the patient.\n",
    "    inferred_params : InferredParams\n",
    "        DataClass object containing the names of inferred parameters.\n",
    "    infer_meal_params : bool, optional\n",
    "        Whether to infer meal parameters, by default False\n",
    "\n",
    "    \"\"\"\n",
    "    theta_list = theta.clone().tolist()\n",
    "    param_names = inferred_params.params_names\n",
    "    patient = default_simulation_env.env.patient\n",
    "\n",
    "    # Separate meal and non-meal parameters\n",
    "    meal_indices, meal_values, other_params, other_values = _separate_parameters(\n",
    "        param_names, theta_list\n",
    "    )\n",
    "\n",
    "    if infer_meal_params and meal_indices:\n",
    "        # Update meal parameters in the scenario\n",
    "        _update_meal_parameters(\n",
    "            default_simulation_env.env.scenario.scenario, meal_values\n",
    "        )\n",
    "\n",
    "    # Update other parameters in the patient\n",
    "    _update_patient_parameters(patient, other_params, other_values)\n",
    "\n",
    "\n",
    "def _separate_parameters(\n",
    "    param_names: list[str], theta_list: list[float]\n",
    ") -> tuple[list[int], list[float], list[str], list[float]]:\n",
    "    \"\"\"Separate meal and non-meal parameters.\"\"\"\n",
    "    meal_indices = [i for i, param in enumerate(param_names) if \"meal\" in param]\n",
    "    meal_values = [theta_list[i] for i in meal_indices]\n",
    "\n",
    "    non_meal_indices_and_params = [\n",
    "        (i, param) for i, param in enumerate(param_names) if \"meal\" not in param\n",
    "    ]\n",
    "    other_params = [param for _, param in non_meal_indices_and_params]\n",
    "    other_values = [theta_list[i] for i, _ in non_meal_indices_and_params]\n",
    "\n",
    "    return meal_indices, meal_values, other_params, other_values\n",
    "\n",
    "\n",
    "def _update_meal_parameters(\n",
    "    scenario: list[tuple[str, float]], meal_values: list[float]\n",
    ") -> None:\n",
    "    \"\"\"Update meal parameters in the scenario.\"\"\"\n",
    "    for i, (meal_name, _) in enumerate(scenario):\n",
    "        scenario[i] = (meal_name, meal_values[i])\n",
    "\n",
    "\n",
    "def _update_patient_parameters(\n",
    "    patient: T1DPatient, params: list[str], values: list[float]\n",
    ") -> None:\n",
    "    \"\"\"Update non-meal parameters in the patient.\"\"\"\n",
    "    for param, value in zip(params, values):\n",
    "        setattr(patient._params, param, value)  # noqa: SLF001"
   ]
  },
  {
   "cell_type": "code",
   "execution_count": 14,
   "metadata": {},
   "outputs": [],
   "source": [
    "def _check_prior_for_meals(prior: Prior) -> bool:\n",
    "    \"\"\"Check if the prior contains meal parameters.\"\"\"\n",
    "    return any(\"meal\" in param for param in prior.params_names)\n",
    "\n",
    "\n",
    "def set_up_sbi_simulator(\n",
    "    prior: Prior,\n",
    "    default_settings: DeafultSimulationEnv,\n",
    "    glucose_simulator: Callable[..., torch.Tensor],\n",
    "    *,\n",
    "    device: torch.device,\n",
    "    infer_meal_params: bool = False,\n",
    ") -> Callable:\n",
    "    \"\"\"Sets up and checks the simulator for the Sequential Bayesian Inference (SBI) framework.\n",
    "\n",
    "    Parameters\n",
    "    ----------\n",
    "    default_settings : DeafultSimulationEnv\n",
    "        DataClass object containing the default simulation environment settings.\n",
    "    prior : Prior\n",
    "        DataClass object containing the priors for the parameters\n",
    "    device : torch.device\n",
    "        Device used to run the simulation\n",
    "    glucose_simulator : callable, optional\n",
    "        Function that runs the glucose simulator, by default run_glucose_simulator\n",
    "    processed_priors : Distribution, optional\n",
    "        Processed priors for the parameters, by default None\n",
    "    infer_meal_params : bool, optional\n",
    "        Whether to infer meal parameters, by default False\n",
    "\n",
    "    Returns\n",
    "    -------\n",
    "    callable\n",
    "        The SBI simulator function used to infer the parameters\n",
    "\n",
    "    \"\"\"\n",
    "    if infer_meal_params and not _check_prior_for_meals(prior):\n",
    "        script_logger.warning(\n",
    "            \"The prior distribution is missing meal parameters despite infer_meal_params being True\"\n",
    "        )\n",
    "\n",
    "    processed_priors, _, _ = process_prior(prior.params_prior_distribution)\n",
    "    script_logger.info(\n",
    "        \"Using prior distribution of shape: %s\", processed_priors.event_shape\n",
    "    )\n",
    "    wrapper = partial(\n",
    "        glucose_simulator,\n",
    "        default_settings=default_settings,\n",
    "        inferred_params=prior,\n",
    "        device=device,\n",
    "        logger=script_logger,\n",
    "        infer_meal_params=infer_meal_params,\n",
    "    )\n",
    "\n",
    "    sbi_simulator = process_simulator(\n",
    "        wrapper, processed_priors, is_numpy_simulator=True\n",
    "    )\n",
    "\n",
    "    check_sbi_inputs(sbi_simulator, processed_priors)\n",
    "\n",
    "    return sbi_simulator"
   ]
  },
  {
   "cell_type": "code",
   "execution_count": 15,
   "metadata": {},
   "outputs": [],
   "source": [
    "def sample_positive(\n",
    "    distribution: Distribution | DirectPosterior,\n",
    "    num_samples: int,\n",
    "    x_true: torch.Tensor | None = None,\n",
    "    batch_size: int | None = None,  # Adjustable batch size for efficiency\n",
    ") -> torch.Tensor:\n",
    "    \"\"\"Samples positive values from a distribution using batch processing.\n",
    "\n",
    "    Parameters\n",
    "    ----------\n",
    "    distribution : Distribution | DirectPosterior\n",
    "        The distribution to sample from.\n",
    "    num_samples : int\n",
    "        The number of positive samples to generate.\n",
    "    x_true : torch.Tensor, optional\n",
    "        The conditioning observation, if applicable.\n",
    "    batch_size : int, optional\n",
    "        The number of samples to draw in each batch to improve efficiency.\n",
    "\n",
    "    Returns\n",
    "    -------\n",
    "    torch.Tensor\n",
    "        The tensor of positive samples of shape (num_samples, num_params).\n",
    "\n",
    "    \"\"\"\n",
    "    if not batch_size:\n",
    "        batch_size = num_samples // 10\n",
    "\n",
    "    collected = []\n",
    "    # Determine if x should be passed\n",
    "    sample_params = inspect.signature(distribution.sample).parameters\n",
    "    kwargs = {\"x\": x_true} if \"x\" in sample_params else {}\n",
    "\n",
    "    total_collected = 0.0\n",
    "    last_logged_pct = 0.0\n",
    "\n",
    "    while total_collected < num_samples:\n",
    "        # Sample in batches\n",
    "        batch_samples = distribution.sample((batch_size,), **kwargs)\n",
    "\n",
    "        # Vectorized filtering of positive samples\n",
    "        positive_samples = batch_samples[torch.all(batch_samples > 0, dim=1)]\n",
    "\n",
    "        collected.append(positive_samples)\n",
    "        total_collected = sum(t.shape[0] for t in collected)\n",
    "\n",
    "        # Compute progress percentage\n",
    "        pct_complete = min(total_collected / num_samples * 100, 100)\n",
    "\n",
    "        # Log only if at least 10% more progress is made\n",
    "        milestone = 10.0\n",
    "        if pct_complete - last_logged_pct >= milestone:\n",
    "            script_logger.info(\"Collected %.2f%% of positive samples\", pct_complete)\n",
    "            last_logged_pct = pct_complete  # Update last logged percentage\n",
    "\n",
    "    # Concatenate and return exactly num_samples\n",
    "    return torch.cat(collected, dim=0)[:num_samples]"
   ]
  },
  {
   "cell_type": "code",
   "execution_count": 16,
   "metadata": {},
   "outputs": [],
   "source": [
    "def bayes_flow(\n",
    "    prior: Distribution, simulator: Callable, num_sims: int\n",
    ") -> DirectPosterior:\n",
    "    \"\"\"Run the BayesFlow algorithm (single round of NPE).\n",
    "\n",
    "    Parameters\n",
    "    ----------\n",
    "    prior : Distribution\n",
    "        The prior distribution for the parameters to infer.\n",
    "    simulator : Callable\n",
    "        The simulator function that generates the data.\n",
    "    num_sims : int\n",
    "        The number of simulations to run.\n",
    "\n",
    "    Returns\n",
    "    -------\n",
    "    DirectPosterior\n",
    "        The posterior distribution of the parameters.\n",
    "\n",
    "    \"\"\"\n",
    "    script_logger.info(\n",
    "        \"Running BayesFlow inference on prior of shape: %s\", prior.event_shape\n",
    "    )\n",
    "    inference = NPE(prior=prior, device=device)\n",
    "    theta = sample_positive(prior, num_sims)\n",
    "    x = simulator(theta)\n",
    "    theta = theta.to(device)\n",
    "    x = x.to(device)\n",
    "    inference.append_simulations(theta, x).train()\n",
    "    return inference.build_posterior()"
   ]
  },
  {
   "cell_type": "code",
   "execution_count": null,
   "metadata": {},
   "outputs": [
    {
     "name": "stdout",
     "output_type": "stream",
     "text": [
      "True_meals:  [(7, 39), (12, 24), (16, 80), (18, 83), (23, 74)]\n"
     ]
    }
   ],
   "source": [
    "def_env = DeafultSimulationEnv(\n",
    "    patient_name=patient_name,\n",
    "    sensor_name=sensor_name,\n",
    "    pump_name=pump_name,\n",
    "    scenario=_random_scenario(),\n",
    "    hours=24,\n",
    ")\n",
    "true_meals = def_env.scenario"
   ]
  },
  {
   "cell_type": "code",
   "execution_count": 18,
   "metadata": {},
   "outputs": [
    {
     "name": "stderr",
     "output_type": "stream",
     "text": [
      "INFO:sbi_logger:Constructing BoxUniform prior...\n"
     ]
    }
   ],
   "source": [
    "prior = prepare_prior(\n",
    "    script_dir=Path(\"glucose_sbi\"),\n",
    "    data_file=\"params_trung.json\",\n",
    "    prior_type=\"uniform\",\n",
    "    number_of_params=2,\n",
    "    inflation_factor=1.0,\n",
    "    device=device,\n",
    "    mean_shift=0.0,\n",
    "    infer_meal_params=True,\n",
    ")"
   ]
  },
  {
   "cell_type": "code",
   "execution_count": 24,
   "metadata": {},
   "outputs": [
    {
     "data": {
      "text/plain": [
       "[<matplotlib.lines.Line2D at 0x17d6e21cb60>]"
      ]
     },
     "execution_count": 24,
     "metadata": {},
     "output_type": "execute_result"
    },
    {
     "data": {
      "image/png": "[encoded data removed]",
      "text/plain": [
       "<Figure size 640x480 with 1 Axes>"
      ]
     },
     "metadata": {},
     "output_type": "display_data"
    }
   ],
   "source": [
    "true_observation, _ = get_true_observation(prior, def_env)\n",
    "true_observation_array = true_observation.cpu().numpy()\n",
    "plt.plot(true_observation_array)"
   ]
  },
  {
   "cell_type": "code",
   "execution_count": 26,
   "metadata": {},
   "outputs": [
    {
     "name": "stderr",
     "output_type": "stream",
     "text": [
      "INFO:sbi_logger:Using prior distribution of shape: torch.Size([7])\n",
      "INFO:sbi_logger:Running the glucose simulator on theta of shape, torch.Size([2, 7])\n",
      "INFO:sbi_logger:Using pathos for parallel processing\n",
      "INFO:sbi_logger:Simulation took 5.7603747844696045 seconds\n",
      "INFO:sbi_logger:Running the glucose simulator on theta of shape, torch.Size([1, 7])\n",
      "INFO:sbi_logger:Using pathos for parallel processing\n",
      "INFO:sbi_logger:Simulation took 4.908866882324219 seconds\n"
     ]
    }
   ],
   "source": [
    "sbi_simulator = set_up_sbi_simulator(\n",
    "    prior=prior,\n",
    "    default_settings=def_env,\n",
    "    device=device,\n",
    "    glucose_simulator=run_glucose_simulator,\n",
    "    infer_meal_params=True,\n",
    ")"
   ]
  },
  {
   "cell_type": "code",
   "execution_count": 27,
   "metadata": {},
   "outputs": [
    {
     "name": "stderr",
     "output_type": "stream",
     "text": [
      "INFO:sbi_logger:Running BayesFlow inference on prior of shape: torch.Size([7])\n",
      "INFO:sbi_logger:Collected 10.00% of positive samples\n",
      "INFO:sbi_logger:Collected 20.00% of positive samples\n",
      "INFO:sbi_logger:Collected 30.00% of positive samples\n",
      "INFO:sbi_logger:Collected 40.00% of positive samples\n",
      "INFO:sbi_logger:Collected 50.00% of positive samples\n",
      "INFO:sbi_logger:Collected 60.00% of positive samples\n",
      "INFO:sbi_logger:Collected 70.00% of positive samples\n",
      "INFO:sbi_logger:Collected 80.00% of positive samples\n",
      "INFO:sbi_logger:Collected 90.00% of positive samples\n",
      "INFO:sbi_logger:Collected 100.00% of positive samples\n",
      "INFO:sbi_logger:Running the glucose simulator on theta of shape, torch.Size([10, 7])\n",
      "INFO:sbi_logger:Using pathos for parallel processing\n",
      "INFO:sbi_logger:Simulation took 9.792333602905273 seconds\n",
      "c:\\Users\\bythe\\Desktop\\Glucose Project\\.venv\\Lib\\site-packages\\sbi\\inference\\trainers\\npe\\npe_base.py:157: UserWarning: Data x has device 'cuda:0'. Moving x to the data_device 'cuda'. Training will proceed on device 'cuda'.\n",
      "  theta, x = validate_theta_and_x(\n",
      "c:\\Users\\bythe\\Desktop\\Glucose Project\\.venv\\Lib\\site-packages\\sbi\\inference\\trainers\\npe\\npe_base.py:157: UserWarning: Parameters theta has device 'cuda:0'. Moving theta to the data_device 'cuda'. Training will proceed on device 'cuda'.\n",
      "  theta, x = validate_theta_and_x(\n"
     ]
    },
    {
     "name": "stdout",
     "output_type": "stream",
     "text": [
      " Neural network successfully converged after 92 epochs."
     ]
    }
   ],
   "source": [
    "posterior = bayes_flow(\n",
    "    prior=prior.params_prior_distribution, simulator=sbi_simulator, num_sims=10\n",
    ")"
   ]
  },
  {
   "cell_type": "code",
   "execution_count": 28,
   "metadata": {},
   "outputs": [
    {
     "name": "stderr",
     "output_type": "stream",
     "text": [
      "C:\\Users\\bythe\\AppData\\Local\\Temp\\ipykernel_17052\\3765860472.py:1: UserWarning: To copy construct from a tensor, it is recommended to use sourceTensor.clone().detach() or sourceTensor.clone().detach().requires_grad_(True), rather than torch.tensor(sourceTensor).\n",
      "  samples = posterior.sample((10,), x=torch.tensor(true_observation).float().to(device))\n"
     ]
    },
    {
     "data": {
      "application/vnd.jupyter.widget-view+json": {
       "model_id": "da25a8e455bc462f8101f290381f4363",
       "version_major": 2,
       "version_minor": 0
      },
      "text/plain": [
       "Drawing 10 posterior samples:   0%|          | 0/10 [00:00<?, ?it/s]"
      ]
     },
     "metadata": {},
     "output_type": "display_data"
    }
   ],
   "source": [
    "samples = posterior.sample((10,), x=torch.tensor(true_observation).float().to(device))"
   ]
  },
  {
   "cell_type": "code",
   "execution_count": 30,
   "metadata": {},
   "outputs": [],
   "source": [
    "inf_params = InferredParams(params_names=prior.params_names)"
   ]
  },
  {
   "cell_type": "code",
   "execution_count": 31,
   "metadata": {},
   "outputs": [],
   "source": [
    "inf_sim = run_glucose_simulator(\n",
    "    theta=samples,\n",
    "    default_settings=def_env,\n",
    "    inferred_params=inf_params,\n",
    "    device=device,\n",
    "    hours=24,\n",
    ")"
   ]
  },
  {
   "cell_type": "code",
   "execution_count": 35,
   "metadata": {},
   "outputs": [],
   "source": [
    "inf_sim_array = inf_sim.cpu().numpy()\n",
    "mean_inf_sim = np.mean(inf_sim_array, axis=0)\n",
    "std_inf_sim = np.std(inf_sim_array, axis=0)"
   ]
  },
  {
   "cell_type": "code",
   "execution_count": 36,
   "metadata": {},
   "outputs": [
    {
     "data": {
      "text/plain": [
       "[<matplotlib.lines.Line2D at 0x17d8f709820>,\n",
       " <matplotlib.lines.Line2D at 0x17d8f6608f0>,\n",
       " <matplotlib.lines.Line2D at 0x17d8f709be0>,\n",
       " <matplotlib.lines.Line2D at 0x17d8f708260>,\n",
       " <matplotlib.lines.Line2D at 0x17d8f709910>,\n",
       " <matplotlib.lines.Line2D at 0x17d8f70a270>,\n",
       " <matplotlib.lines.Line2D at 0x17d1053a900>,\n",
       " <matplotlib.lines.Line2D at 0x17d8f6d1b20>,\n",
       " <matplotlib.lines.Line2D at 0x17d8f709970>,\n",
       " <matplotlib.lines.Line2D at 0x17d8f709190>]"
      ]
     },
     "execution_count": 36,
     "metadata": {},
     "output_type": "execute_result"
    },
    {
     "data": {
      "image/png": "[encoded data removed]",
      "text/plain": [
       "<Figure size 640x480 with 1 Axes>"
      ]
     },
     "metadata": {},
     "output_type": "display_data"
    }
   ],
   "source": [
    "plt.plot(inf_sim_array.T, color=\"gray\", alpha=0.5)"
   ]
  },
  {
   "cell_type": "code",
   "execution_count": null,
   "metadata": {},
   "outputs": [],
   "source": [
    "true_observation, true_params = get_true_observation(\n",
    "    prior=prior, env_settings=def_env, hours=24\n",
    ")\n",
    "true_observation = true_observation.cpu().numpy()"
   ]
  },
  {
   "cell_type": "code",
   "execution_count": 38,
   "metadata": {},
   "outputs": [],
   "source": [
    "import seaborn as sns"
   ]
  },
  {
   "cell_type": "code",
   "execution_count": 39,
   "metadata": {},
   "outputs": [
    {
     "data": {
      "image/png": "[encoded data removed]",
      "text/plain": [
       "<Figure size 640x480 with 1 Axes>"
      ]
     },
     "metadata": {},
     "output_type": "display_data"
    }
   ],
   "source": [
    "plt.plot(true_observation)\n",
    "plt.plot(mean_inf_sim)\n",
    "plt.fill_between(\n",
    "    np.arange(len(mean_inf_sim)),\n",
    "    mean_inf_sim - std_inf_sim,\n",
    "    mean_inf_sim + std_inf_sim,\n",
    "    alpha=0.5,\n",
    "    color=\"grey\",\n",
    ")\n",
    "sns.despine()"
   ]
  },
  {
   "cell_type": "code",
   "execution_count": 43,
   "metadata": {},
   "outputs": [],
   "source": [
    "true_scenario = def_env.scenario\n",
    "meal_times = [meal[0] for meal in true_scenario]\n",
    "inferred_scenario = samples[:, :5].cpu().numpy()"
   ]
  },
  {
   "cell_type": "code",
   "execution_count": null,
   "metadata": {},
   "outputs": [],
   "source": [
    "def plot_meals(\n",
    "    true_scenario: list[tuple[int, int]], inferred_scenario: np.ndarray\n",
    ") -> tuple[plt.Figure, plt.Axes]:\n",
    "    \"\"\"Plot the inferred vs true meal sizes.\n",
    "\n",
    "    Parameters\n",
    "    ----------\n",
    "    true_scenario : list[tuple[int, int]]\n",
    "        The true meal sizes\n",
    "    inferred_scenario : np.ndarray\n",
    "        The inferred meal sizes\n",
    "\n",
    "    Returns\n",
    "    -------\n",
    "    tuple[plt.Figure, plt.Axes]\n",
    "        The figure and axes objects\n",
    "\n",
    "    \"\"\"\n",
    "    fig, ax = plt.subplots(figsize=(10, 6))\n",
    "    meal_times = [meal[0] for meal in true_scenario]\n",
    "    ax.scatter(*zip(*true_scenario), color=\"green\", label=\"True meal size\")\n",
    "\n",
    "    ax.errorbar(\n",
    "        meal_times,\n",
    "        inferred_scenario.mean(axis=0),\n",
    "        yerr=inferred_scenario.std(axis=0),\n",
    "        fmt=\"o\",\n",
    "        color=\"red\",\n",
    "        capsize=5,\n",
    "        label=\"Inferred meal size\",\n",
    "    )\n",
    "\n",
    "    ax.legend()\n",
    "\n",
    "    ax.set_xlabel(\"Time\")\n",
    "    ax.set_ylabel(\"Meal size\")\n",
    "    ax.set_xlim(0, 24)\n",
    "    ax.set_xticks(np.arange(0, 25, 2))\n",
    "    ax.set_xticks(np.arange(0, 25, 1), minor=True)\n",
    "    ax.spines[\"top\"].set_visible(False)\n",
    "    ax.spines[\"right\"].set_visible(False)\n",
    "    plt.title(\"Inferred vs True meal sizes\")\n",
    "    plt.tight_layout()\n",
    "    return fig, ax"
   ]
  },
  {
   "cell_type": "code",
   "execution_count": 55,
   "metadata": {},
   "outputs": [
    {
     "data": {
      "text/plain": [
       "(<Figure size 1000x600 with 1 Axes>,\n",
       " <Axes: title={'center': 'Inferred vs True meal sizes'}, xlabel='Time', ylabel='Meal size'>)"
      ]
     },
     "execution_count": 55,
     "metadata": {},
     "output_type": "execute_result"
    },
    {
     "data": {
      "image/png": "[encoded data removed]",
      "text/plain": [
       "<Figure size 1000x600 with 1 Axes>"
      ]
     },
     "metadata": {},
     "output_type": "display_data"
    }
   ],
   "source": [
    "plot_meals(true_scenario, inferred_scenario)"
   ]
  },
  {
   "cell_type": "code",
   "execution_count": 58,
   "metadata": {},
   "outputs": [],
   "source": [
    "scenario = def_env.scenario\n",
    "true_params_values = np.array(\n",
    "    list(true_params.values()) + [scenario[i][1] for i in range(5)]\n",
    ")"
   ]
  },
  {
   "cell_type": "code",
   "execution_count": null,
   "metadata": {},
   "outputs": [
    {
     "data": {
      "text/plain": [
       "<BarContainer object of 7 artists>"
      ]
     },
     "execution_count": 61,
     "metadata": {},
     "output_type": "execute_result"
    },
    {
     "data": {
      "image/png": "[encoded data removed]",
      "text/plain": [
       "<Figure size 640x480 with 1 Axes>"
      ]
     },
     "metadata": {},
     "output_type": "display_data"
    }
   ],
   "source": [
    "param_names = prior.params_names\n",
    "plt.bar(param_names, true_params_values)"
   ]
  },
  {
   "cell_type": "code",
   "execution_count": null,
   "metadata": {},
   "outputs": [],
   "source": [
    "posterior_more = bayes_flow(\n",
    "    prior=prior.params_prior_distribution, simulator=sbi_simulator, num_sims=10000\n",
    ")"
   ]
  },
  {
   "cell_type": "code",
   "execution_count": null,
   "metadata": {},
   "outputs": [],
   "source": [
    "samples_more = posterior_more.sample(\n",
    "    (1000,), x=torch.tensor(true_observation).float().to(device)\n",
    ")"
   ]
  },
  {
   "cell_type": "code",
   "execution_count": null,
   "metadata": {},
   "outputs": [],
   "source": [
    "inf_sim_more = run_glucose_simulator(\n",
    "    theta=samples_more,\n",
    "    default_settings=def_env,\n",
    "    inferred_params=inf_params,\n",
    "    device=device,\n",
    "    hours=24,\n",
    ")"
   ]
  },
  {
   "cell_type": "code",
   "execution_count": null,
   "metadata": {},
   "outputs": [],
   "source": [
    "inf_sim_more_array = inf_sim_more.cpu().numpy()\n",
    "mean_inf_sim_more = np.mean(inf_sim_more_array, axis=0)\n",
    "std_inf_sim_more = np.std(inf_sim_more_array, axis=0)"
   ]
  },
  {
   "cell_type": "code",
   "execution_count": null,
   "metadata": {},
   "outputs": [],
   "source": [
    "plt.plot(inf_sim_more_array.T, color=\"gray\", alpha=0.5)"
   ]
  },
  {
   "cell_type": "code",
   "execution_count": null,
   "metadata": {},
   "outputs": [],
   "source": [
    "plt.plot(true_observation)\n",
    "plt.plot(mean_inf_sim_more)\n",
    "plt.fill_between(\n",
    "    np.arange(len(mean_inf_sim_more)),\n",
    "    mean_inf_sim_more - std_inf_sim_more,\n",
    "    mean_inf_sim_more + std_inf_sim_more,\n",
    "    alpha=0.5,\n",
    "    color=\"grey\",\n",
    ")"
   ]
  },
  {
   "cell_type": "code",
   "execution_count": null,
   "metadata": {},
   "outputs": [],
   "source": [
    "true_scenario = def_env.scenario\n",
    "meal_times = [meal[0] for meal in true_scenario]\n",
    "plt.scatter(*zip(*true_scenario), color=\"green\")\n",
    "\n",
    "inferred_scenario_more = samples_more[:, :5].cpu().numpy()\n",
    "plt.errorbar(\n",
    "    meal_times,\n",
    "    inferred_scenario_more.mean(axis=0),\n",
    "    yerr=inferred_scenario_more.std(axis=0),\n",
    "    fmt=\"o\",\n",
    "    color=\"red\",\n",
    "    capsize=5,\n",
    ")"
   ]
  }
 ],
 "metadata": {
  "kernelspec": {
   "display_name": ".venv",
   "language": "python",
   "name": "python3"
  },
  "language_info": {
   "codemirror_mode": {
    "name": "ipython",
    "version": 3
   },
   "file_extension": ".py",
   "mimetype": "text/x-python",
   "name": "python",
   "nbconvert_exporter": "python",
   "pygments_lexer": "ipython3",
   "version": "3.12.3"
  }
 },
 "nbformat": 4,
 "nbformat_minor": 2
}
