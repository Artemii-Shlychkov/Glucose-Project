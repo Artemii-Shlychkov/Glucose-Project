{
 "cells": [
  {
   "cell_type": "code",
   "execution_count": 1,
   "metadata": {},
   "outputs": [],
   "source": [
    "import argparse\n",
    "import json\n",
    "import logging\n",
    "import pickle\n",
    "import random\n",
    "import time\n",
    "from copy import deepcopy\n",
    "from dataclasses import dataclass, field, fields\n",
    "from datetime import datetime, timedelta, timezone\n",
    "from functools import partial\n",
    "from pathlib import Path\n",
    "\n",
    "import matplotlib.pyplot as plt\n",
    "import numpy as np\n",
    "import seaborn as sns\n",
    "import torch\n",
    "import yaml\n",
    "from pathos.multiprocessing import ProcessingPool as Pool\n",
    "from sbi.inference import NPE\n",
    "from sbi.utils import BoxUniform, RestrictedPrior, get_density_thresholder\n",
    "from sbi.utils.user_input_checks import (\n",
    "    check_sbi_inputs,\n",
    "    process_simulator,\n",
    ")\n",
    "from simglucose.actuator.pump import InsulinPump\n",
    "from simglucose.controller.basal_bolus_ctrller import BBController\n",
    "from simglucose.patient.t1dpatient import T1DPatient\n",
    "from simglucose.sensor.cgm import CGMSensor\n",
    "from simglucose.simulation.env import T1DSimEnv\n",
    "from simglucose.simulation.scenario import CustomScenario\n",
    "from simglucose.simulation.sim_engine import SimObj\n",
    "from sklearn.metrics import mean_squared_error\n",
    "from torch.distributions import Distribution\n",
    "from tqdm import tqdm\n"
   ]
  },
  {
   "cell_type": "code",
   "execution_count": 2,
   "metadata": {},
   "outputs": [],
   "source": [
    "from prepare_priors import Prior"
   ]
  },
  {
   "cell_type": "code",
   "execution_count": 3,
   "metadata": {},
   "outputs": [],
   "source": [
    "pathos = True"
   ]
  },
  {
   "cell_type": "code",
   "execution_count": 4,
   "metadata": {},
   "outputs": [],
   "source": [
    "@dataclass\n",
    "class DeafultSimulationEnv:\n",
    "    \"\"\"Dataclass for the default simulation environment.\"\"\"\n",
    "\n",
    "    patient_name: str | None = None\n",
    "    sensor_name: str | None = None\n",
    "    pump_name: str | None = None\n",
    "    scenario: list[tuple[int, int]] = field(default_factory=list)\n",
    "    hours: int = 24  # hours to simulate"
   ]
  },
  {
   "cell_type": "code",
   "execution_count": 5,
   "metadata": {},
   "outputs": [
    {
     "name": "stdout",
     "output_type": "stream",
     "text": [
      "Number of parameters: 45\n"
     ]
    }
   ],
   "source": [
    "@dataclass\n",
    "class ParamPriors:\n",
    "    \"\"\"Dataclass for the prior distributions of the model parameters.\"\"\"\n",
    "\n",
    "    x0_10: tuple[float, float] | None = None\n",
    "    x0_11: tuple[float, float] | None = None\n",
    "    x0_12: tuple[float, float] | None = None\n",
    "    x0_13: tuple[float, float] | None = None\n",
    "    BW: tuple[float, float] | None = None\n",
    "    EGPb: tuple[float, float] | None = None\n",
    "    Gb: tuple[float, float] | None = None\n",
    "    Ib: tuple[float, float] | None = None\n",
    "    kabs: tuple[float, float] | None = None\n",
    "    kmax: tuple[float, float] | None = None\n",
    "    kmin: tuple[float, float] | None = None\n",
    "    b: tuple[float, float] | None = None\n",
    "    d: tuple[float, float] | None = None\n",
    "    Vg: tuple[float, float] | None = None\n",
    "    Vi: tuple[float, float] | None = None\n",
    "    Ipb: tuple[float, float] | None = None\n",
    "    Vmx: tuple[float, float] | None = None\n",
    "    Km0: tuple[float, float] | None = None\n",
    "    k2: tuple[float, float] | None = None\n",
    "    k1: tuple[float, float] | None = None\n",
    "    p2u: tuple[float, float] | None = None\n",
    "    m1: tuple[float, float] | None = None\n",
    "    m5: tuple[float, float] | None = None\n",
    "    CL: tuple[float, float] | None = None\n",
    "    HEb: tuple[float, float] | None = None\n",
    "    m2: tuple[float, float] | None = None\n",
    "    m4: tuple[float, float] | None = None\n",
    "    m30: tuple[float, float] | None = None\n",
    "    Ilb: tuple[float, float] | None = None\n",
    "    ki: tuple[float, float] | None = None\n",
    "    kp2: tuple[float, float] | None = None\n",
    "    kp3: tuple[float, float] | None = None\n",
    "    Gpb: tuple[float, float] | None = None\n",
    "    Gtb: tuple[float, float] | None = None\n",
    "    Vm0: tuple[float, float] | None = None\n",
    "    Rdb: tuple[float, float] | None = None\n",
    "    PCRb: tuple[float, float] | None = None\n",
    "    kd: tuple[float, float] | None = None\n",
    "    ksc: tuple[float, float] | None = None\n",
    "    ka1: tuple[float, float] | None = None\n",
    "    ka2: tuple[float, float] | None = None\n",
    "    u2ss: tuple[float, float] | None = None\n",
    "    isc1ss: tuple[float, float] | None = None\n",
    "    isc2ss: tuple[float, float] | None = None\n",
    "    kp1: tuple[float, float] | None = None\n",
    "\n",
    "print(\"Number of parameters:\", len(fields(ParamPriors)))"
   ]
  },
  {
   "cell_type": "code",
   "execution_count": 6,
   "metadata": {},
   "outputs": [],
   "source": [
    "def set_up_logging() -> logging.Logger:\n",
    "    \"\"\"Set up the logging configuration for the script.\"\"\"\n",
    "    logger = logging.getLogger(\"script_logger\")\n",
    "    logger.setLevel(logging.INFO)\n",
    "    handler = logging.FileHandler(\"infer_parameters.log\")\n",
    "    formatter = logging.Formatter(\n",
    "        \"%(asctime)s - %(levelname)s - %(message)s\", datefmt=\"%Y-%m-%d %H:%M:%S\"\n",
    "    )\n",
    "    handler.setFormatter(formatter)\n",
    "    logger.addHandler(handler)\n",
    "    return logger"
   ]
  },
  {
   "cell_type": "code",
   "execution_count": 7,
   "metadata": {},
   "outputs": [],
   "source": [
    "script_logger = set_up_logging()"
   ]
  },
  {
   "cell_type": "code",
   "execution_count": 8,
   "metadata": {},
   "outputs": [],
   "source": [
    "def load_config(config_name: \"str\") -> dict:\n",
    "    \"\"\"Loads the configuration file.\n",
    "\n",
    "    Parameters\n",
    "    ----------\n",
    "    config_name : str\n",
    "        The name of the configuration file to load.\n",
    "\n",
    "    Returns\n",
    "    -------\n",
    "    dict\n",
    "        The configuration file as a dictionary.\n",
    "\n",
    "    \"\"\"\n",
    "    with Path(f\"simulation_configs/{config_name}\").open() as file:\n",
    "        script_logger.info(\"Loaded configuration file: %s\", config_name)\n",
    "        return yaml.safe_load(file)"
   ]
  },
  {
   "cell_type": "code",
   "execution_count": 9,
   "metadata": {},
   "outputs": [],
   "source": [
    "def set_up_device() -> torch.device:\n",
    "    \"\"\"Set up the device for the simulation.\"\"\"\n",
    "    device = torch.device(\"cuda\" if torch.cuda.is_available() else \"cpu\")\n",
    "    script_logger.info(\"Device used for execution: %s\", device)\n",
    "    return device"
   ]
  },
  {
   "cell_type": "code",
   "execution_count": 10,
   "metadata": {},
   "outputs": [
    {
     "name": "stdout",
     "output_type": "stream",
     "text": [
      "device: cuda\n"
     ]
    }
   ],
   "source": [
    "device = set_up_device()\n",
    "print(\"device:\", device)"
   ]
  },
  {
   "cell_type": "code",
   "execution_count": 11,
   "metadata": {},
   "outputs": [],
   "source": [
    "def set_up_pathos() -> bool:\n",
    "    \"\"\"Set up pathos for multiprocessing.\"\"\"\n",
    "    try:\n",
    "        pathos = True\n",
    "        script_logger.info(\"Pathos enabled for multiprocessing\")\n",
    "    except ImportError:\n",
    "        script_logger.warning(\"Pathos not enabled\")\n",
    "        pathos = False\n",
    "    return pathos\n"
   ]
  },
  {
   "cell_type": "code",
   "execution_count": 12,
   "metadata": {},
   "outputs": [],
   "source": [
    "def select_random_parameters(\n",
    "    param_priors: dict[str, tuple[float, float]], num_params: int\n",
    ") -> dict[str, tuple[float, float]]:\n",
    "    \"\"\"Select a specified number of random parameters from the parameter priors.\n",
    "\n",
    "    Parameters\n",
    "    ----------\n",
    "    param_priors : Dict[str, Any]\n",
    "        The parameter priors as a dictionary.\n",
    "    num_params : int\n",
    "        The number of random parameters to select.\n",
    "\n",
    "    Returns\n",
    "    -------\n",
    "    Dict[str, Any]\n",
    "        A dictionary containing the selected random parameters.\n",
    "\n",
    "    \"\"\"\n",
    "    if num_params >= len(param_priors):\n",
    "        return param_priors\n",
    "    selected_keys = random.sample(list(param_priors.keys()), num_params)\n",
    "    return {key: param_priors[key] for key in selected_keys}"
   ]
  },
  {
   "cell_type": "code",
   "execution_count": 13,
   "metadata": {},
   "outputs": [],
   "source": [
    "def get_patient_params(env: T1DSimEnv, priors: Prior) -> dict:\n",
    "    \"\"\"Returns the patient parameters that were used in the simulation.\n",
    "\n",
    "    Parameters\n",
    "    ----------\n",
    "    env : T1DSimEnv\n",
    "        simglucose simulation environment\n",
    "    priors : ParamPriors\n",
    "        dataclass containing the priors for the patient parameters\n",
    "        (we only want to look at the parameters that are being inferred)\n",
    "\n",
    "    Returns\n",
    "    -------\n",
    "    dict\n",
    "        dictionary containing the patient parameters used in the simulation\n",
    "\n",
    "    \"\"\"\n",
    "    param_names = priors.params_names\n",
    "    params = [\n",
    "        getattr(env.env.patient._params, param)  # noqa: SLF001\n",
    "        for param in param_names\n",
    "    ]\n",
    "    return dict(zip(param_names, params))"
   ]
  },
  {
   "cell_type": "code",
   "execution_count": 14,
   "metadata": {},
   "outputs": [],
   "source": [
    "def process_uniform_priors(priors: ParamPriors, device: torch.device) -> Distribution:\n",
    "    \"\"\"Converts the priors to a single 23D BoxUniform distribution.\n",
    "\n",
    "    Parameters\n",
    "    ----------\n",
    "    priors : ParamPriors\n",
    "        Uniform prior distributions for the model parameters\n",
    "    device : torch.device\n",
    "        The device to use for the simulation\n",
    "\n",
    "    Returns\n",
    "    -------\n",
    "    Distribution\n",
    "        23D torch BoxUniform distribution\n",
    "\n",
    "    \"\"\"\n",
    "    low_vals = []\n",
    "    high_vals = []\n",
    "    for f in fields(priors):\n",
    "        # get the value for the field\n",
    "        value = getattr(priors, f.name)\n",
    "        if value is None:\n",
    "            continue\n",
    "\n",
    "        low, high = getattr(priors, f.name)\n",
    "        low_vals.append(low)\n",
    "        high_vals.append(high)\n",
    "\n",
    "    low_tensor = torch.tensor(low_vals, dtype=torch.float32, device=device)\n",
    "    high_tensor = torch.tensor(high_vals, dtype=torch.float32, device=device)\n",
    "\n",
    "    return BoxUniform(low=low_tensor, high=high_tensor, device=device)"
   ]
  },
  {
   "cell_type": "code",
   "execution_count": 15,
   "metadata": {},
   "outputs": [],
   "source": [
    "def load_default_simulation_env(\n",
    "    env_settings: DeafultSimulationEnv, hours: int = 24\n",
    ") -> T1DSimEnv:\n",
    "    \"\"\"Load the default simulation environment.\n",
    "\n",
    "    Parameters\n",
    "    ----------\n",
    "    env_settings : DeafultSimulationEnv\n",
    "        DataClass object containing the default simulation environment settings.\n",
    "    hours : int, optional\n",
    "        The number of hours to simulate, by default 24\n",
    "\n",
    "    Returns\n",
    "    -------\n",
    "    T1DSimEnv\n",
    "        The simulation environment object.\n",
    "\n",
    "    \"\"\"\n",
    "    now = datetime.now(tz=timezone.utc)\n",
    "    start_time = datetime.combine(now.date(), datetime.min.time())\n",
    "\n",
    "    patient = T1DPatient.withName(env_settings.patient_name)\n",
    "    sensor = CGMSensor.withName(env_settings.sensor_name, seed=1)\n",
    "    pump = InsulinPump.withName(env_settings.pump_name)\n",
    "    scenario = CustomScenario(start_time=start_time, scenario=env_settings.scenario)\n",
    "    controller = BBController()\n",
    "    env = T1DSimEnv(patient=patient, sensor=sensor, pump=pump, scenario=scenario)\n",
    "\n",
    "    return SimObj(\n",
    "        env=env, controller=controller, sim_time=timedelta(hours=hours), animate=False\n",
    "    )"
   ]
  },
  {
   "cell_type": "code",
   "execution_count": 16,
   "metadata": {},
   "outputs": [],
   "source": [
    "def set_custom_params(\n",
    "    patient: T1DPatient, theta: torch.Tensor, priors: Prior\n",
    ") -> None:\n",
    "    \"\"\"Apply the custom parameters (used for a particular simulation) for the patient.\n",
    "\n",
    "    Parameters\n",
    "    ----------\n",
    "    patient : T1DPatient\n",
    "        The patient object\n",
    "    custom_params : torch.Tensor\n",
    "        The custom parameters to apply to the patient\n",
    "    priors : ParamPriors\n",
    "        The priors for the parameters\n",
    "        (we need only the names of the parameters that will actually be used in the simulation)\n",
    "\n",
    "    \"\"\"\n",
    "    # convert tensor to list\n",
    "    custom_params_values = theta.tolist()\n",
    "    param_names = priors.params_names\n",
    "    for i, param in enumerate(param_names):\n",
    "        setattr(patient._params, param, custom_params_values[i])  # noqa: SLF001"
   ]
  },
  {
   "cell_type": "code",
   "execution_count": 17,
   "metadata": {},
   "outputs": [],
   "source": [
    "def create_simulation_envs_with_custom_params(\n",
    "    params_sets: torch.Tensor,\n",
    "    default_settings: DeafultSimulationEnv,\n",
    "    priors: Prior,\n",
    "    hours: int = 24,\n",
    ") -> list[T1DSimEnv]:\n",
    "    \"\"\"Creates a list of simulation environments with custom parameters.\n",
    "\n",
    "    Parameters\n",
    "    ----------\n",
    "    params_sets : torch.Tensor\n",
    "        Sets of custom parameters to use for the simulation of shape (N_sets, N_params)\n",
    "    default_settings : DeafultSimulationEnv\n",
    "        DataClass object containing the default simulation environment settings.\n",
    "    priors : ParamPriors\n",
    "        DataClass object containing the priors for the parameters\n",
    "    hours : int, optional\n",
    "        Duration of simulation, by default 24\n",
    "\n",
    "    Returns\n",
    "    -------\n",
    "    list[T1DSimEnv]\n",
    "        List of simulation environments with custom parameters\n",
    "\n",
    "    \"\"\"\n",
    "    default_simulation_env = load_default_simulation_env(\n",
    "        hours=hours, env_settings=default_settings\n",
    "    )\n",
    "    simulation_envs = []\n",
    "    sim_patients_params = []\n",
    "    for i in range(params_sets.shape[0]):\n",
    "        custom_sim_env = deepcopy(default_simulation_env)\n",
    "        # row i is shape (23,)\n",
    "        set_custom_params(custom_sim_env.env.patient, params_sets[i], priors)\n",
    "        simulation_envs.append(custom_sim_env)\n",
    "        sim_patients_params.append(get_patient_params(custom_sim_env.env, priors))\n",
    "    # save to json\n",
    "    with open(\"sim_patients_params.json\", \"w\") as file:\n",
    "        json.dump(sim_patients_params, file, indent=4)\n",
    "    return simulation_envs"
   ]
  },
  {
   "cell_type": "code",
   "execution_count": 18,
   "metadata": {},
   "outputs": [],
   "source": [
    "def simulate_glucose_dynamics(simulation_env: T1DSimEnv) -> np.ndarray:\n",
    "    \"\"\"Simulates the glucose dynamics for a given simulation environment.\n",
    "\n",
    "    Parameters\n",
    "    ----------\n",
    "    simulation_env : T1DSimEnv\n",
    "        The simulation environment object\n",
    "\n",
    "    Returns\n",
    "    -------\n",
    "    np.ndarray\n",
    "        The glucose dynamics\n",
    "\n",
    "    \"\"\"\n",
    "    simulation_env.simulate()\n",
    "    return simulation_env.results()[\"CGM\"].to_numpy()"
   ]
  },
  {
   "cell_type": "code",
   "execution_count": 19,
   "metadata": {},
   "outputs": [],
   "source": [
    "def simulate_batch(simulations: list[T1DSimEnv], device: torch.device) -> torch.Tensor:\n",
    "    \"\"\"Simulate a batch of simulation environments in parallel.\n",
    "\n",
    "    Parameters\n",
    "    ----------\n",
    "    simulations : list[T1DSimEnv]\n",
    "        List of simulation environments\n",
    "    device : torch.device\n",
    "        The device to use for the simulation\n",
    "\n",
    "    Returns\n",
    "    -------\n",
    "    torch.Tensor\n",
    "        The glucose dynamics for each simulation\n",
    "\n",
    "    \"\"\"\n",
    "    tic = time.time()\n",
    "\n",
    "    pathos = True\n",
    "    if pathos:\n",
    "        with Pool() as p:\n",
    "            logging.info(\"Using pathos for multiprocessing\")\n",
    "            results = p.map(simulate_glucose_dynamics, simulations)\n",
    "    else:\n",
    "        results = [simulate_glucose_dynamics(s) for s in tqdm(simulations)]\n",
    "    toc = time.time()\n",
    "    logging.info(\"Simulation took %s sec.\", toc - tic)\n",
    "    results = np.stack(results)\n",
    "    return torch.from_numpy(results).float().to(device)"
   ]
  },
  {
   "cell_type": "code",
   "execution_count": 20,
   "metadata": {},
   "outputs": [],
   "source": [
    "def run_glucose_simulator(\n",
    "    params_sets: torch.Tensor,\n",
    "    default_settings: DeafultSimulationEnv,\n",
    "    priors: Prior,\n",
    "    device: torch.device,\n",
    "    hours: int = 24,\n",
    ") -> torch.Tensor:\n",
    "    \"\"\"Run the glucose simulator for a batch of custom parameters.\n",
    "\n",
    "    Parameters\n",
    "    ----------\n",
    "    params_sets : torch.Tensor\n",
    "        Sets of custom parameters to use for the simulation of shape (N_sets, N_params)\n",
    "    default_settings : DeafultSimulationEnv\n",
    "        DataClass object containing the default simulation environment settings.\n",
    "    priors : ParamPriors\n",
    "        DataClass object containing the priors for the parameters\n",
    "    hours : int, optional\n",
    "        Duration of the simulation, by default 24\n",
    "    device : torch.device, optional\n",
    "        Device used to run the simulation, by default torch.device('cpu')\n",
    "\n",
    "    Returns\n",
    "    -------\n",
    "    torch.Tensor\n",
    "        The glucose dynamics time series for each simulation\n",
    "\n",
    "    \"\"\"\n",
    "    # Suppose params_sets is (N, 23)\n",
    "    simulation_envs = create_simulation_envs_with_custom_params(\n",
    "        params_sets=params_sets,\n",
    "        default_settings=default_settings,\n",
    "        priors=priors,\n",
    "        hours=hours,\n",
    "    )\n",
    "    return simulate_batch(simulation_envs, device)"
   ]
  },
  {
   "cell_type": "code",
   "execution_count": 21,
   "metadata": {},
   "outputs": [],
   "source": [
    "def set_up_sbi_simulator(\n",
    "    default_settings: DeafultSimulationEnv,\n",
    "    priors: Prior,\n",
    "    device: torch.device,\n",
    "    glucose_simulator: callable = run_glucose_simulator,\n",
    ") -> callable:\n",
    "    \"\"\"Sets up and checks the simulator for the Sequential Bayesian Inference (SBI) framework.\n",
    "\n",
    "    Parameters\n",
    "    ----------\n",
    "    default_settings : DeafultSimulationEnv\n",
    "        DataClass object containing the default simulation environment settings.\n",
    "    priors : ParamPriors\n",
    "        DataClass object containing the priors for the parameters\n",
    "    device : torch.device\n",
    "        Device used to run the simulation\n",
    "    glucose_simulator : callable, optional\n",
    "        Function that runs the glucose simulator, by default run_glucose_simulator\n",
    "    processed_priors : Distribution, optional\n",
    "        Processed priors for the parameters, by default None\n",
    "\n",
    "    Returns\n",
    "    -------\n",
    "    callable\n",
    "        The SBI simulator function used to infer the parameters\n",
    "\n",
    "    \"\"\"\n",
    "    set_up_glucose_simulator = partial(\n",
    "        glucose_simulator,\n",
    "        default_settings=default_settings,\n",
    "        priors=priors,\n",
    "        device=device,\n",
    "    )\n",
    "    processed_priors = priors.params_prior_distribution\n",
    "\n",
    "    script_logger.info(\"Prior of shape: %s\", processed_priors.event_shape)\n",
    "    sbi_sumulator = process_simulator(\n",
    "        set_up_glucose_simulator, processed_priors, is_numpy_simulator=True\n",
    "    )\n",
    "\n",
    "    #check_sbi_inputs(sbi_sumulator, processed_priors)  # optional\n",
    "    return sbi_sumulator"
   ]
  },
  {
   "cell_type": "code",
   "execution_count": 22,
   "metadata": {},
   "outputs": [],
   "source": [
    "def get_true_observation(\n",
    "    priors: Prior, env_settings: DeafultSimulationEnv, hours: int = 24\n",
    ") -> tuple[torch.Tensor, dict]:\n",
    "    \"\"\"Returns the single glucose dynamcis simulation from the default simulation environment parameters and these parameters.\n",
    "\n",
    "    Parameters\n",
    "    ----------\n",
    "    priors : ParamPriors\n",
    "        DataClass object containing the priors for the parameters\n",
    "    env_settings : DeafultSimulationEnv\n",
    "        DataClass object containing the default simulation environment settings.\n",
    "    hours : int, optional\n",
    "        Duration of the simulation, by default 24\n",
    "\n",
    "    Returns\n",
    "    -------\n",
    "    np.ndarray\n",
    "        Time series of glucose dynamics.\n",
    "\n",
    "    \"\"\"\n",
    "    default_simulation_env = load_default_simulation_env(\n",
    "        env_settings=env_settings, hours=hours\n",
    "    )\n",
    "    default_simulation_env.simulate()\n",
    "    true_params = get_patient_params(default_simulation_env, priors)\n",
    "    true_observation = default_simulation_env.results()[\"CGM\"].to_numpy()\n",
    "    true_observation = torch.from_numpy(true_observation).float().to(device)\n",
    "    return true_observation, true_params"
   ]
  },
  {
   "cell_type": "code",
   "execution_count": 23,
   "metadata": {},
   "outputs": [],
   "source": [
    "def sample_positive(proposal, num_samples):\n",
    "    \"\"\"\n",
    "    Sample from the multivariate normal distribution and constrain samples to be positive.\n",
    "    A progress bar (tqdm) tracks how many valid samples have been accumulated.\n",
    "    \n",
    "    Parameters\n",
    "    ----------\n",
    "    proposal : MultivariateNormal\n",
    "        The multivariate normal distribution to sample from.\n",
    "    num_samples : int\n",
    "        The number of positive samples to obtain.\n",
    "\n",
    "    Returns\n",
    "    -------\n",
    "    torch.Tensor\n",
    "        A tensor containing the positive samples.\n",
    "    \"\"\"\n",
    "    positive_samples = []\n",
    "    with tqdm(total=num_samples, desc=\"Sampling positive samples\") as pbar:\n",
    "        while len(positive_samples) < num_samples:\n",
    "            sample = proposal.sample()\n",
    "            if torch.all(sample > 0):\n",
    "                positive_samples.append(sample)\n",
    "                pbar.update(1)  # Update progress bar when a valid sample is found\n",
    "\n",
    "    return torch.stack(positive_samples)"
   ]
  },
  {
   "cell_type": "code",
   "execution_count": 24,
   "metadata": {},
   "outputs": [],
   "source": [
    "def sample_from_posterior(\n",
    "    posterior: Distribution, x_true: np.ndarray, num_samples: int = 1000\n",
    ") -> torch.Tensor:\n",
    "    \"\"\"Sample from the posterior distribution.\n",
    "\n",
    "    Parameters\n",
    "    ----------\n",
    "    posterior : Distribution\n",
    "        The posterior distribution of the parameters.\n",
    "    x_true : np.ndarray\n",
    "        The true observation to compare the inference results to.\n",
    "    num_samples : int, optional\n",
    "        number of required samples, by default 1000\n",
    "\n",
    "    Returns\n",
    "    -------\n",
    "    torch.Tensor\n",
    "        The posterior samples.\n",
    "\n",
    "    \"\"\"\n",
    "    x_true = torch.tensor(x_true, dtype=torch.float32, device=device)\n",
    "    return posterior.sample((num_samples,), x=x_true)"
   ]
  },
  {
   "cell_type": "code",
   "execution_count": 25,
   "metadata": {},
   "outputs": [],
   "source": [
    "def run_tsnpe(\n",
    "    prior: Distribution,\n",
    "    simulator: callable,\n",
    "    true_observation: torch.Tensor,\n",
    "    device: torch.device,\n",
    "    num_rounds: int = 10,\n",
    "    num_simulations: int = 1000,\n",
    ") -> Distribution:\n",
    "    \"\"\"Runs the Truncated Sequential Neural Posterior Estimation (TSNPE) algorithm.\n",
    "\n",
    "    Parameters\n",
    "    ----------\n",
    "    prior : torch.distributions.Distribution\n",
    "        The prior distribution for the parameters to infer.\n",
    "    simulator : callable\n",
    "        The simulator function that generates the data.\n",
    "    true_observation : torch.Tensor\n",
    "        The true observation to compare the inference results to.\n",
    "    device : torch.device\n",
    "        The device to use for the simulation.\n",
    "    num_rounds : int, optional\n",
    "        number  of inference rounds, by default 10\n",
    "    num_simulations : int, optional\n",
    "        number of simulations per inferenceround, by default 1000\n",
    "\n",
    "    Returns\n",
    "    -------\n",
    "    Distribution\n",
    "        The posterior distribution of the parameters.\n",
    "\n",
    "    \"\"\"\n",
    "    script_logger.info(\"Running TSNPE inference on prior of shape: %s\", prior.event_shape)\n",
    "    print(\"Running TSNPE inference on prior of shape:\", prior.event_shape)\n",
    "    inference = NPE(prior=prior, device=device)\n",
    "    proposal = prior\n",
    "    for _ in range(num_rounds):\n",
    "        theta = sample_positive(proposal, num_simulations)\n",
    "        print('shape of theta:', theta.shape)\n",
    "        x = simulator(theta)\n",
    "        print(x.shape)\n",
    "        # Optional sanity check: ensure on same device\n",
    "        theta = theta.to(device)\n",
    "        x = x.to(device)\n",
    "\n",
    "        _ = inference.append_simulations(theta, x).train(force_first_round_loss=True)\n",
    "        posterior = inference.build_posterior().set_default_x(true_observation)\n",
    "\n",
    "        accept_reject_fn = get_density_thresholder(posterior, quantile=1e-4)\n",
    "        proposal = RestrictedPrior(\n",
    "            prior,\n",
    "            accept_reject_fn,\n",
    "            sample_with=\"rejection\",\n",
    "            device=device,\n",
    "        )\n",
    "        save_acceptance_rate = proposal.acceptance_rate\n",
    "        print(f\"Acceptance rate: {save_acceptance_rate}\")\n",
    "    return posterior"
   ]
  },
  {
   "cell_type": "code",
   "execution_count": 26,
   "metadata": {},
   "outputs": [],
   "source": [
    "def run_apt(\n",
    "    prior: Distribution,\n",
    "    simulator: callable,\n",
    "    true_observation: torch.Tensor,\n",
    "    device: torch.device,\n",
    "    num_rounds: int = 10,\n",
    "    num_simulations: int = 1000,\n",
    ") -> Distribution:\n",
    "    \"\"\"Runs the Automatic Posterior Transformation (APT) NPE algorithm.\n",
    "\n",
    "    Parameters\n",
    "    ----------\n",
    "    prior : Distribution\n",
    "        The prior distribution for the parameters to infer.\n",
    "    simulator : callable\n",
    "        The simulator function that generates the data.\n",
    "    true_observation : torch.Tensor\n",
    "        The true observation to compare the inference results to.\n",
    "    device : torch.device\n",
    "        The device to use for the simulation.\n",
    "    num_rounds : int, optional\n",
    "        number of inference rounds, by default 10\n",
    "    num_simulations : int, optional\n",
    "        number of simulations per inference round, by default 1000\n",
    "\n",
    "    Returns\n",
    "    -------\n",
    "    Distribution\n",
    "        The posterior distribution of the parameters.\n",
    "\n",
    "    \"\"\"\n",
    "    # Initialize NPE on device\n",
    "    inference = NPE(prior=prior, device=device)\n",
    "\n",
    "    proposal = prior  # start with prior\n",
    "\n",
    "    for r in range(num_rounds):\n",
    "        script_logger.info(\"Running round %s of %s\", r + 1, num_rounds)\n",
    "\n",
    "        theta = proposal.sample((num_simulations,))\n",
    "        x = simulator(theta)\n",
    "        theta = theta.to(device)\n",
    "        x = x.to(device)\n",
    "\n",
    "        _ = inference.append_simulations(theta, x, proposal=proposal).train()\n",
    "\n",
    "        posterior_dist = inference.build_posterior().set_default_x(true_observation)\n",
    "\n",
    "        proposal = posterior_dist\n",
    "\n",
    "    return posterior_dist"
   ]
  },
  {
   "cell_type": "code",
   "execution_count": 27,
   "metadata": {},
   "outputs": [],
   "source": [
    "def run_npe(\n",
    "    algorithm: str, priors: ParamPriors, device: torch.device, **kwargs: dict\n",
    ") -> Distribution:\n",
    "    \"\"\"Run the specified NPE algorithm.\n",
    "\n",
    "    Parameters\n",
    "    ----------\n",
    "    algorithm : str\n",
    "        The name of the NPE algorithm to run.\n",
    "    priors : ParamPriors\n",
    "        DataClass object containing the priors for the parameters.\n",
    "    device : torch.device\n",
    "        The device to use for the simulation.\n",
    "    **kwargs : dict\n",
    "        Additional keyword arguments for the NPE algorithm.\n",
    "\n",
    "    Returns\n",
    "    -------\n",
    "    Distribution\n",
    "        The posterior distribution of the parameters.\n",
    "\n",
    "    \"\"\"\n",
    "    processed_prior = process_uniform_priors(priors=priors, device=device)\n",
    "    if algorithm == \"TSNPE\":\n",
    "        return run_tsnpe(prior=processed_prior, device=device, **kwargs)\n",
    "    if algorithm == \"APT\":\n",
    "        return run_apt(prior=processed_prior, device=device, **kwargs)\n",
    "    msg = f\"Invalid NPE algorithm: {algorithm}\"\n",
    "    raise ValueError(msg)"
   ]
  },
  {
   "cell_type": "code",
   "execution_count": 28,
   "metadata": {},
   "outputs": [],
   "source": [
    "default_settings = DeafultSimulationEnv(\n",
    "    patient_name=\"adolescent#001\",\n",
    "    sensor_name=\"Dexcom\",\n",
    "    pump_name=\"Insulet\",\n",
    "    scenario=[(7,45),(12,70),(16,15),(18,80), (23,10)],\n",
    "    hours=24,\n",
    ")"
   ]
  },
  {
   "cell_type": "code",
   "execution_count": 29,
   "metadata": {},
   "outputs": [],
   "source": [
    "from prepare_priors import prepare_prior"
   ]
  },
  {
   "cell_type": "code",
   "execution_count": 35,
   "metadata": {},
   "outputs": [],
   "source": [
    "prior_dataclass = prepare_prior(data_file=\"all_patients_params.json\", prior_type='mvn', number_of_params=45, inflation_factor=1.1, mean_shift=0.1, device=device)"
   ]
  },
  {
   "cell_type": "code",
   "execution_count": 36,
   "metadata": {},
   "outputs": [
    {
     "name": "stdout",
     "output_type": "stream",
     "text": [
      "torch.Size([45])\n",
      "torch.Size([1, 45])\n"
     ]
    }
   ],
   "source": [
    "print(prior_dataclass.params_prior_distribution.event_shape)\n",
    "rs = prior_dataclass.params_prior_distribution.sample((1,))\n",
    "print(rs.shape)\n"
   ]
  },
  {
   "cell_type": "code",
   "execution_count": 37,
   "metadata": {},
   "outputs": [],
   "source": [
    "true_observation, true_params = get_true_observation(\n",
    "        priors=prior_dataclass, env_settings=default_settings, hours=24\n",
    "    )"
   ]
  },
  {
   "cell_type": "code",
   "execution_count": 38,
   "metadata": {},
   "outputs": [
    {
     "data": {
      "text/plain": [
       "[<matplotlib.lines.Line2D at 0x1a6b7fc5550>]"
      ]
     },
     "execution_count": 38,
     "metadata": {},
     "output_type": "execute_result"
    },
    {
     "data": {
      "image/png": "[encoded data removed]",
      "text/plain": [
       "<Figure size 640x480 with 1 Axes>"
      ]
     },
     "metadata": {},
     "output_type": "display_data"
    }
   ],
   "source": [
    "plt.plot(true_observation.to(\"cpu\").numpy())"
   ]
  },
  {
   "cell_type": "code",
   "execution_count": 39,
   "metadata": {},
   "outputs": [
    {
     "name": "stderr",
     "output_type": "stream",
     "text": [
      "INFO:script_logger:Prior of shape: torch.Size([45])\n"
     ]
    },
    {
     "name": "stdout",
     "output_type": "stream",
     "text": [
      "done with mvn prior\n"
     ]
    }
   ],
   "source": [
    "sbi_simulator = set_up_sbi_simulator(default_settings=default_settings, priors=prior_dataclass, device=device)\n",
    "print('done with mvn prior')\n"
   ]
  },
  {
   "cell_type": "code",
   "execution_count": 40,
   "metadata": {},
   "outputs": [
    {
     "name": "stderr",
     "output_type": "stream",
     "text": [
      "INFO:script_logger:Running TSNPE inference on prior of shape: torch.Size([45])\n"
     ]
    },
    {
     "name": "stdout",
     "output_type": "stream",
     "text": [
      "Running TSNPE inference on prior of shape: torch.Size([45])\n"
     ]
    },
    {
     "name": "stderr",
     "output_type": "stream",
     "text": [
      "Sampling positive samples: 100%|██████████| 1000/1000 [00:07<00:00, 126.80it/s]\n"
     ]
    },
    {
     "name": "stdout",
     "output_type": "stream",
     "text": [
      "shape of theta: torch.Size([1000, 45])\n",
      "torch.Size([1000, 481])\n"
     ]
    },
    {
     "name": "stderr",
     "output_type": "stream",
     "text": [
      "c:\\Users\\320264407\\Glucose-Project\\.venv\\Lib\\site-packages\\sbi\\inference\\trainers\\npe\\npe_base.py:157: UserWarning: Data x has device 'cuda:0'. Moving x to the data_device 'cuda'. Training will proceed on device 'cuda'.\n",
      "  theta, x = validate_theta_and_x(\n",
      "c:\\Users\\320264407\\Glucose-Project\\.venv\\Lib\\site-packages\\sbi\\inference\\trainers\\npe\\npe_base.py:157: UserWarning: Parameters theta has device 'cuda:0'. Moving theta to the data_device 'cuda'. Training will proceed on device 'cuda'.\n",
      "  theta, x = validate_theta_and_x(\n"
     ]
    },
    {
     "name": "stdout",
     "output_type": "stream",
     "text": [
      " Neural network successfully converged after 218 epochs."
     ]
    },
    {
     "data": {
      "application/vnd.jupyter.widget-view+json": {
       "model_id": "8c085c06e3584673a02c51d77b03b188",
       "version_major": 2,
       "version_minor": 0
      },
      "text/plain": [
       "Drawing 1000000 posterior samples:   0%|          | 0/1000000 [00:00<?, ?it/s]"
      ]
     },
     "metadata": {},
     "output_type": "display_data"
    },
    {
     "name": "stdout",
     "output_type": "stream",
     "text": [
      "Acceptance rate: None\n"
     ]
    }
   ],
   "source": [
    "post = run_tsnpe(prior=prior_dataclass.params_prior_distribution, simulator=sbi_simulator, true_observation=true_observation, device=device, num_rounds=1, num_simulations=1000)"
   ]
  },
  {
   "cell_type": "code",
   "execution_count": 41,
   "metadata": {},
   "outputs": [],
   "source": [
    "from glucose_sbi.sample_non_negative import sample_non_negative"
   ]
  },
  {
   "cell_type": "code",
   "execution_count": 42,
   "metadata": {},
   "outputs": [
    {
     "data": {
      "application/vnd.jupyter.widget-view+json": {
       "model_id": "9bef4db030ed4ffc8b76b722120cb83d",
       "version_major": 2,
       "version_minor": 0
      },
      "text/plain": [
       "Drawing 1000 posterior samples:   0%|          | 0/1000 [00:00<?, ?it/s]"
      ]
     },
     "metadata": {},
     "output_type": "display_data"
    }
   ],
   "source": [
    "samples = sample_non_negative(post, num_samples=1000, true_observation=true_observation)"
   ]
  },
  {
   "cell_type": "code",
   "execution_count": 43,
   "metadata": {},
   "outputs": [
    {
     "name": "stdout",
     "output_type": "stream",
     "text": [
      "True\n"
     ]
    }
   ],
   "source": [
    "# check if the samples are positive\n",
    "print((samples >= 0).all().item())"
   ]
  },
  {
   "cell_type": "code",
   "execution_count": 44,
   "metadata": {},
   "outputs": [],
   "source": [
    "sim = run_glucose_simulator(samples, default_settings, prior_dataclass, device, hours=24)"
   ]
  },
  {
   "cell_type": "code",
   "execution_count": 45,
   "metadata": {},
   "outputs": [],
   "source": [
    "mean_sim = sim.mean(dim=0).to(\"cpu\").numpy()\n",
    "std_sim = sim.std(dim=0).to(\"cpu\").numpy()"
   ]
  },
  {
   "cell_type": "code",
   "execution_count": 46,
   "metadata": {},
   "outputs": [
    {
     "data": {
      "text/plain": [
       "[<matplotlib.lines.Line2D at 0x1a6bbd70d10>]"
      ]
     },
     "execution_count": 46,
     "metadata": {},
     "output_type": "execute_result"
    },
    {
     "data": {
      "image/png": "[encoded data removed]",
      "text/plain": [
       "<Figure size 640x480 with 1 Axes>"
      ]
     },
     "metadata": {},
     "output_type": "display_data"
    }
   ],
   "source": [
    "plt.plot(mean_sim)\n",
    "plt.fill_between(np.arange(len(mean_sim)), mean_sim - std_sim, mean_sim + std_sim, alpha=0.3)\n",
    "plt.plot(true_observation.to(\"cpu\").numpy())"
   ]
  }
 ],
 "metadata": {
  "kernelspec": {
   "display_name": ".venv",
   "language": "python",
   "name": "python3"
  },
  "language_info": {
   "codemirror_mode": {
    "name": "ipython",
    "version": 3
   },
   "file_extension": ".py",
   "mimetype": "text/x-python",
   "name": "python",
   "nbconvert_exporter": "python",
   "pygments_lexer": "ipython3",
   "version": "3.12.8"
  }
 },
 "nbformat": 4,
 "nbformat_minor": 2
}
